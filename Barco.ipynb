{
  "nbformat": 4,
  "nbformat_minor": 0,
  "metadata": {
    "colab": {
      "name": "Barco.ipynb",
      "provenance": [],
      "authorship_tag": "ABX9TyPX7NO8XeLWQpzhAM+ARGIX",
      "include_colab_link": true
    },
    "kernelspec": {
      "name": "python3",
      "display_name": "Python 3"
    }
  },
  "cells": [
    {
      "cell_type": "markdown",
      "metadata": {
        "id": "view-in-github",
        "colab_type": "text"
      },
      "source": [
        "<a href=\"https://colab.research.google.com/github/SergiodotICO/edd_1358_2021/blob/master/Barco.ipynb\" target=\"_parent\"><img src=\"https://colab.research.google.com/assets/colab-badge.svg\" alt=\"Open In Colab\"/></a>"
      ]
    },
    {
      "cell_type": "code",
      "metadata": {
        "id": "9WlfHrm80eDY"
      },
      "source": [
        "class Queue:\r\n",
        "    def __init__(self):\r\n",
        "        self.__data = list()\r\n",
        "\r\n",
        "    def is_empty(self):\r\n",
        "        return len(self.__data) == 0\r\n",
        "\r\n",
        "    def length(self):\r\n",
        "        return len(self.__data)\r\n",
        "\r\n",
        "    def enqueue(self, item):\r\n",
        "        self.__data.append(item)\r\n",
        "\r\n",
        "    def dequeue(self):\r\n",
        "        if not self.is_empty():\r\n",
        "            return self.__data.pop(0)\r\n",
        "        else:\r\n",
        "            return None\r\n",
        "\r\n",
        "    def to_string(self):\r\n",
        "        cdena = \"\"\r\n",
        "        for elem in self.__data:\r\n",
        "            cdena = cdena + \"|\" + elem\r\n",
        "        cdena = cdena + \"|\"\r\n",
        "        return cdena"
      ],
      "execution_count": 1,
      "outputs": []
    },
    {
      "cell_type": "code",
      "metadata": {
        "id": "xy17hJbo0l52"
      },
      "source": [
        "class PriorityQueue:\r\n",
        "    def __init__(self, niveles):\r\n",
        "        self.__data = [Queue() for x in range(niveles)]\r\n",
        "        self.__size = 0\r\n",
        "\r\n",
        "    def is_empty(self):\r\n",
        "        return self.__size == 0\r\n",
        "\r\n",
        "    def length(self):\r\n",
        "        return self.__size\r\n",
        "\r\n",
        "    def enqueue(self, prioridad, elem):\r\n",
        "        if prioridad < len(self.__data) and prioridad >= 0:\r\n",
        "            self.__data[prioridad].enqueue(elem)\r\n",
        "            self.__size += 1\r\n",
        "        else:\r\n",
        "            nuevo = Queue()\r\n",
        "            nuevo.enqueue(elem)\r\n",
        "            self.__data.append(nuevo)\r\n",
        "            self.__size += 1\r\n",
        "\r\n",
        "    def dequeue(self):\r\n",
        "        if not self.is_empty():\r\n",
        "            nivel = 0\r\n",
        "            while self.__data[nivel].is_empty():\r\n",
        "                nivel += 1\r\n",
        "            self.__size -= 1\r\n",
        "            return self.__data[nivel].dequeue()\r\n",
        "        else:\r\n",
        "            return None\r\n",
        "\r\n",
        "    def to_string(self):\r\n",
        "        for nivel in range(len(self.__data)):\r\n",
        "            print(f\"Nivel {nivel} --> {self.__data[nivel].to_string()}\")"
      ],
      "execution_count": 4,
      "outputs": []
    },
    {
      "cell_type": "code",
      "metadata": {
        "colab": {
          "base_uri": "https://localhost:8080/"
        },
        "id": "W5RLMBw_0zen",
        "outputId": "fa49b3b3-5989-4961-de63-64af467f9562"
      },
      "source": [
        "pasajeros = [(3, \"Maestre\"), (1,\"Niños\"), (3, \"Mecánico\"), (2, \"Mujeres\"), (3,\"Vigia\"), (4, \"Capitan\"), (3,\"Timonel\"), (2,\"Hombres\"),(1,\"3ra edad\"),(0,\"Niñas\")]\r\n",
        "print(\"Pasajeros del barco: \")\r\n",
        "print(pasajeros)\r\n",
        "print(\"Hacer cola: \")\r\n",
        "orden = PriorityQueue(5)\r\n",
        "for tipo in pasajeros:\r\n",
        "    orden.enqueue(tipo[0],tipo[1])\r\n",
        "orden.to_string()\r\n",
        "iter = 0\r\n",
        "print(\"Comienza a evauar personas:\")\r\n",
        "while True:\r\n",
        "    print(f\"Evacua: {orden.dequeue()}\")\r\n",
        "    if orden.length() == 0:\r\n",
        "        print(\"Cola vacia\")\r\n",
        "        print(\"El barco ha sido evacuado por completo\")\r\n",
        "        break"
      ],
      "execution_count": 5,
      "outputs": [
        {
          "output_type": "stream",
          "text": [
            "Pasajeros del barco: \n",
            "[(3, 'Maestre'), (1, 'Niños'), (3, 'Mecánico'), (2, 'Mujeres'), (3, 'Vigia'), (4, 'Capitan'), (3, 'Timonel'), (2, 'Hombres'), (1, '3ra edad'), (0, 'Niñas')]\n",
            "Hacer cola: \n",
            "Nivel 0 --> |Niñas|\n",
            "Nivel 1 --> |Niños|3ra edad|\n",
            "Nivel 2 --> |Mujeres|Hombres|\n",
            "Nivel 3 --> |Maestre|Mecánico|Vigia|Timonel|\n",
            "Nivel 4 --> |Capitan|\n",
            "Comienza a evauar personas:\n",
            "Evacua: Niñas\n",
            "Evacua: Niños\n",
            "Evacua: 3ra edad\n",
            "Evacua: Mujeres\n",
            "Evacua: Hombres\n",
            "Evacua: Maestre\n",
            "Evacua: Mecánico\n",
            "Evacua: Vigia\n",
            "Evacua: Timonel\n",
            "Evacua: Capitan\n",
            "Cola vacia\n",
            "El barco ha sido evacuado por completo\n"
          ],
          "name": "stdout"
        }
      ]
    }
  ]
}