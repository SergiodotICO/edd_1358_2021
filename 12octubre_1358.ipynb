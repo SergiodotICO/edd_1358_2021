{
  "nbformat": 4,
  "nbformat_minor": 0,
  "metadata": {
    "colab": {
      "name": "12octubre_1358.ipynb",
      "provenance": [],
      "authorship_tag": "ABX9TyM19efK9hjyPKbnHmafVdYn",
      "include_colab_link": true
    },
    "kernelspec": {
      "name": "python3",
      "display_name": "Python 3"
    }
  },
  "cells": [
    {
      "cell_type": "markdown",
      "metadata": {
        "id": "view-in-github",
        "colab_type": "text"
      },
      "source": [
        "<a href=\"https://colab.research.google.com/github/SergiodotICO/edd_1358_2021/blob/master/12octubre_1358.ipynb\" target=\"_parent\"><img src=\"https://colab.research.google.com/assets/colab-badge.svg\" alt=\"Open In Colab\"/></a>"
      ]
    },
    {
      "cell_type": "code",
      "metadata": {
        "id": "PhnPq_tN0R5n",
        "outputId": "bf5fff1e-b197-4c4d-fe96-048eb4b7ef9f",
        "colab": {
          "base_uri": "https://localhost:8080/",
          "height": 122
        }
      },
      "source": [
        "# Diccionarios (continucación)\n",
        "cliente_banco = {\n",
        "              \"id\":1,\n",
        "              \"nombres\" : [\"Juan\", \"Antonio\"],\n",
        "              \"paterno\" : \"García\",\n",
        "              \"materno\" : \"Pérez\",\n",
        "              \"telefonos\" : {\n",
        "                              \"casa\": 5566778899,\n",
        "                              \"celular\": 5544332211,\n",
        "                              \"trabajo\": 5566223311,\n",
        "                            },\n",
        "                \"activo\" : True,\n",
        "                \"balance\" : 234567.89,\n",
        "                \"tarjetas\" : ({\"tipo\":\"debito\",\"saldo\":12000},\n",
        "                              {\"tipo\":\"crédito\",\"saldo\": 3500.0})\n",
        "              }\n",
        "print(cliente_banco)\n",
        "# tambien se puede escribir como print(cliente_banco) -= 10000.89\n",
        "cliente_banco[\"balance\"] = cliente_banco[\"balance\"] - 1000.\n",
        "print(cliente_banco)\n",
        "\n",
        "cliente_banco[\"tarjetas\"] = ({\"tipo\":\"debito\",\"saldo\":12000},\n",
        "                              {\"tipo\":\"crédito\",\"saldo\": 3500.0},\n",
        "                             {\"tipo\":\"crédito\", \"nivel\" : \"oro\",\"saldo\": 50000})\n",
        "print(cliente_banco)\n",
        "cliente_banco[\"direccion\"] = {\"calle\": \"rancho seo\",\"num\": 23}\n",
        "print(cliente_banco)\n",
        "cliente_banco.pop(\"tarjetas\")\n",
        "print(cliente_banco)\n"
      ],
      "execution_count": 11,
      "outputs": [
        {
          "output_type": "stream",
          "text": [
            "{'id': 1, 'nombres': ['Juan', 'Antonio'], 'paterno': 'García', 'materno': 'Pérez', 'telefonos': {'casa': 5566778899, 'celular': 5544332211, 'trabajo': 5566223311}, 'activo': True, 'balance': 234567.89, 'tarjetas': ({'tipo': 'debito', 'saldo': 12000}, {'tipo': 'crédito', 'saldo': 3500.0})}\n",
            "{'id': 1, 'nombres': ['Juan', 'Antonio'], 'paterno': 'García', 'materno': 'Pérez', 'telefonos': {'casa': 5566778899, 'celular': 5544332211, 'trabajo': 5566223311}, 'activo': True, 'balance': 233567.89, 'tarjetas': ({'tipo': 'debito', 'saldo': 12000}, {'tipo': 'crédito', 'saldo': 3500.0})}\n",
            "{'id': 1, 'nombres': ['Juan', 'Antonio'], 'paterno': 'García', 'materno': 'Pérez', 'telefonos': {'casa': 5566778899, 'celular': 5544332211, 'trabajo': 5566223311}, 'activo': True, 'balance': 233567.89, 'tarjetas': ({'tipo': 'debito', 'saldo': 12000}, {'tipo': 'crédito', 'saldo': 3500.0}, {'tipo': 'crédito', 'nivel': 'oro', 'saldo': 50000})}\n",
            "{'id': 1, 'nombres': ['Juan', 'Antonio'], 'paterno': 'García', 'materno': 'Pérez', 'telefonos': {'casa': 5566778899, 'celular': 5544332211, 'trabajo': 5566223311}, 'activo': True, 'balance': 233567.89, 'tarjetas': ({'tipo': 'debito', 'saldo': 12000}, {'tipo': 'crédito', 'saldo': 3500.0}, {'tipo': 'crédito', 'nivel': 'oro', 'saldo': 50000}), 'direccion': {'calle': 'rancho seo', 'num': 23}}\n",
            "{'id': 1, 'nombres': ['Juan', 'Antonio'], 'paterno': 'García', 'materno': 'Pérez', 'telefonos': {'casa': 5566778899, 'celular': 5544332211, 'trabajo': 5566223311}, 'activo': True, 'balance': 233567.89, 'direccion': {'calle': 'rancho seo', 'num': 23}}\n"
          ],
          "name": "stdout"
        }
      ]
    },
    {
      "cell_type": "code",
      "metadata": {
        "id": "w4eASUhzccY0",
        "outputId": "8d20f7cc-4a65-4413-c73d-b336567d3e2f",
        "colab": {
          "base_uri": "https://localhost:8080/",
          "height": 530
        }
      },
      "source": [
        "llaves = cliente_banco.keys()\n",
        "print(llaves)\n",
        "print(type(llaves))\n",
        "for x in llaves:\n",
        "  print(x)\n",
        "\n",
        "valores = cliente_banco.values()\n",
        "for v in valores:\n",
        "  print(v)\n",
        "print(\"-------\")\n",
        "pares = cliente_banco.items()\n",
        "print(pares)\n",
        "\n",
        "print(\"---------\")\n",
        "\n",
        "for elem in pares:\n",
        "  print(f\"{elem[0]} = {elem[1]}\")"
      ],
      "execution_count": 19,
      "outputs": [
        {
          "output_type": "stream",
          "text": [
            "dict_keys(['id', 'nombres', 'paterno', 'materno', 'telefonos', 'activo', 'balance', 'direccion'])\n",
            "<class 'dict_keys'>\n",
            "id\n",
            "nombres\n",
            "paterno\n",
            "materno\n",
            "telefonos\n",
            "activo\n",
            "balance\n",
            "direccion\n",
            "1\n",
            "['Juan', 'Antonio']\n",
            "García\n",
            "Pérez\n",
            "{'casa': 5566778899, 'celular': 5544332211, 'trabajo': 5566223311}\n",
            "True\n",
            "233567.89\n",
            "{'calle': 'rancho seo', 'num': 23}\n",
            "-------\n",
            "dict_items([('id', 1), ('nombres', ['Juan', 'Antonio']), ('paterno', 'García'), ('materno', 'Pérez'), ('telefonos', {'casa': 5566778899, 'celular': 5544332211, 'trabajo': 5566223311}), ('activo', True), ('balance', 233567.89), ('direccion', {'calle': 'rancho seo', 'num': 23})])\n",
            "---------\n",
            "id = 1\n",
            "nombres = ['Juan', 'Antonio']\n",
            "paterno = García\n",
            "materno = Pérez\n",
            "telefonos = {'casa': 5566778899, 'celular': 5544332211, 'trabajo': 5566223311}\n",
            "activo = True\n",
            "balance = 233567.89\n",
            "direccion = {'calle': 'rancho seo', 'num': 23}\n"
          ],
          "name": "stdout"
        }
      ]
    },
    {
      "cell_type": "code",
      "metadata": {
        "id": "1t1_EFnog6YZ",
        "outputId": "1dd8236b-2b76-4b0a-e905-aba5be1d9f0e",
        "colab": {
          "base_uri": "https://localhost:8080/",
          "height": 34
        }
      },
      "source": [
        "# combinar diccionarios\n",
        "fruta = {\"nombre\":\"manzana\", \"color\":\"rojo\", \"estado\": \"chihuahua\"}\n",
        "otras_caracteristicas = {\"vitamina\":\"D\"}\n",
        "fruta.update(otras_caracteristicas)\n",
        "print(fruta)"
      ],
      "execution_count": 22,
      "outputs": [
        {
          "output_type": "stream",
          "text": [
            "{'nombre': 'manzana', 'color': 'rojo', 'estado': 'chihuahua', 'vitamina': 'D'}\n"
          ],
          "name": "stdout"
        }
      ]
    },
    {
      "cell_type": "markdown",
      "metadata": {
        "id": "jK7uRt43iTwa"
      },
      "source": [
        "# Funciones\n",
        "- recibe de 0 a n argumentos de entrada \n",
        "- regresa solo un valor, aunque ese valor sea None.\n",
        "- tiene un nombre unico en el contexto.\n",
        "- se pueden hacer dos cosas con funciones:\n",
        "    - definirla\n",
        "    - llamarla"
      ]
    },
    {
      "cell_type": "code",
      "metadata": {
        "id": "GGV6tty8i8Yg",
        "outputId": "46b26c8c-fc7e-448e-abdb-af4d362ee6c2",
        "colab": {
          "base_uri": "https://localhost:8080/",
          "height": 51
        }
      },
      "source": [
        "def suma(a,b):\n",
        "  return a + b\n",
        "\n",
        "def saludar():\n",
        "  print(\"Hola, ¿como estas?\")\n",
        "  return None\n",
        "\n",
        "x = 10\n",
        "y = 20\n",
        "c = suma(x,y)\n",
        "print(c)\n",
        "saludar()\n"
      ],
      "execution_count": 24,
      "outputs": [
        {
          "output_type": "stream",
          "text": [
            "30\n",
            "Hola, ¿como estas?\n"
          ],
          "name": "stdout"
        }
      ]
    },
    {
      "cell_type": "markdown",
      "metadata": {
        "id": "DH6S_Zj-k0RN"
      },
      "source": [
        "# None y las funciones\n",
        "\n",
        "aprovechar el uso de none en paso de parametros."
      ]
    },
    {
      "cell_type": "code",
      "metadata": {
        "id": "Gry3DIIPk9Sg",
        "outputId": "99706461-fe3d-463b-ff5b-a1854dfff8cf",
        "colab": {
          "base_uri": "https://localhost:8080/",
          "height": 51
        }
      },
      "source": [
        "def calcular( base, veces):\n",
        "  if base != None:\n",
        "    resultado = base * veces\n",
        "  else:\n",
        "    resultado = \"desconocido\"\n",
        "  return resultado\n",
        "  \n",
        "\n",
        "print(calcular(4,3))\n",
        "print(calcular(None,3))"
      ],
      "execution_count": 27,
      "outputs": [
        {
          "output_type": "stream",
          "text": [
            "12\n",
            "desconocido\n"
          ],
          "name": "stdout"
        }
      ]
    }
  ]
}