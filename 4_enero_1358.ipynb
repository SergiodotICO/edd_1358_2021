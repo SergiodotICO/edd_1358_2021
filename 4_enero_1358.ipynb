{
  "nbformat": 4,
  "nbformat_minor": 0,
  "metadata": {
    "colab": {
      "name": "4_enero_1358.ipynb",
      "provenance": [],
      "collapsed_sections": [],
      "authorship_tag": "ABX9TyPbFNBrB02XrEaym99BVCMO",
      "include_colab_link": true
    },
    "kernelspec": {
      "name": "python3",
      "display_name": "Python 3"
    }
  },
  "cells": [
    {
      "cell_type": "markdown",
      "metadata": {
        "id": "view-in-github",
        "colab_type": "text"
      },
      "source": [
        "<a href=\"https://colab.research.google.com/github/SergiodotICO/edd_1358_2021/blob/master/4_enero_1358.ipynb\" target=\"_parent\"><img src=\"https://colab.research.google.com/assets/colab-badge.svg\" alt=\"Open In Colab\"/></a>"
      ]
    },
    {
      "cell_type": "code",
      "metadata": {
        "id": "Ja9UCrIsL0bb"
      },
      "source": [
        "class Queue:\r\n",
        "  def __init__( self ):\r\n",
        "    self.__data = list()\r\n",
        "\r\n",
        "  def is_empty( self ):\r\n",
        "    return len(self.__data) == 0\r\n",
        "  \r\n",
        "  def length( self ):\r\n",
        "    return len(self.__data)\r\n",
        "  \r\n",
        "  def enqueue( self, item ):\r\n",
        "    self.__data.append( item )\r\n",
        "\r\n",
        "  def dequeue( self ):\r\n",
        "    if not self.is_empty():\r\n",
        "      return self.__data.pop(0)\r\n",
        "    else:\r\n",
        "      return None\r\n",
        "  \r\n",
        "  def to_string( self ):\r\n",
        "    for elem in self.__data:\r\n",
        "      print(f\"| { elem } \", end=\"\")\r\n",
        "    print(\"|\")\r\n"
      ],
      "execution_count": 18,
      "outputs": []
    },
    {
      "cell_type": "code",
      "metadata": {
        "colab": {
          "base_uri": "https://localhost:8080/"
        },
        "id": "fLXMSgGDRueI",
        "outputId": "07be22f8-4899-411e-83a9-96f9596007cf"
      },
      "source": [
        "cola = Queue()\r\n",
        "cola.enqueue( 10 )\r\n",
        "cola.enqueue( 2 )\r\n",
        "cola.enqueue( 20 )\r\n",
        "cola.enqueue( 110 )\r\n",
        "cola.enqueue( 33 )\r\n",
        "\r\n",
        "cola.to_string()\r\n",
        "\r\n",
        "# meter un elemeto\r\n",
        "cola.enqueue( 44 )\r\n",
        "cola.to_string()\r\n",
        "\r\n",
        "# sacar un elemto\r\n",
        "elem = cola.dequeue()\r\n",
        "print(f\"El elemto es { elem }\")\r\n",
        "cola.to_string()\r\n",
        "\r\n",
        "# sacar un elemto\r\n",
        "elem = cola.dequeue()\r\n",
        "print(f\"El elemto es { elem }\")\r\n",
        "cola.to_string()"
      ],
      "execution_count": 21,
      "outputs": [
        {
          "output_type": "stream",
          "text": [
            "| 10 | 2 | 20 | 110 | 33 |\n",
            "| 10 | 2 | 20 | 110 | 33 | 44 |\n",
            "El elemto es 10\n",
            "| 2 | 20 | 110 | 33 | 44 |\n",
            "El elemto es 2\n",
            "| 20 | 110 | 33 | 44 |\n"
          ],
          "name": "stdout"
        }
      ]
    },
    {
      "cell_type": "code",
      "metadata": {
        "colab": {
          "base_uri": "https://localhost:8080/"
        },
        "id": "PiZvDtFIUjeV",
        "outputId": "d7464a45-6cb6-4844-c30e-61728bdb2f40"
      },
      "source": [
        "c1 = { \"id\" : 1 , \"nombre\":\"Jose\" , \"balance\":2345654.99}\r\n",
        "c2 = { \"id\" : 2 , \"nombre\":\"Maria\" , \"balance\":2323.01}\r\n",
        "c3 = { \"id\" : 3 , \"nombre\":\"Jesus\" , \"balance\":333.55}\r\n",
        "\r\n",
        "\r\n",
        "queue = Queue()\r\n",
        "queue.enqueue( c1 )\r\n",
        "queue.enqueue( c2 )\r\n",
        "queue.enqueue( c3 )\r\n",
        "queue.to_string()\r\n",
        "\r\n",
        "a_atender = queue.dequeue()\r\n",
        "print(f\"Hola sr {a_atender['nombre']}, que tramite desea hacer?\")"
      ],
      "execution_count": 25,
      "outputs": [
        {
          "output_type": "stream",
          "text": [
            "| {'id': 1, 'nombre': 'Jose', 'balance': 2345654.99} | {'id': 2, 'nombre': 'Maria', 'balance': 2323.01} | {'id': 3, 'nombre': 'Jesus', 'balance': 333.55} |\n",
            "Hola sr Jose, que tramite desea hacer?\n"
          ],
          "name": "stdout"
        }
      ]
    }
  ]
}