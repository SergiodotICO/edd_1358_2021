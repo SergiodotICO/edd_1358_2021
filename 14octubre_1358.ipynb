{
  "nbformat": 4,
  "nbformat_minor": 0,
  "metadata": {
    "colab": {
      "name": "14octubre_1358.ipynb",
      "provenance": [],
      "toc_visible": true,
      "authorship_tag": "ABX9TyORybM+Qemw5FNsFZGHZZXC",
      "include_colab_link": true
    },
    "kernelspec": {
      "name": "python3",
      "display_name": "Python 3"
    }
  },
  "cells": [
    {
      "cell_type": "markdown",
      "metadata": {
        "id": "view-in-github",
        "colab_type": "text"
      },
      "source": [
        "<a href=\"https://colab.research.google.com/github/SergiodotICO/edd_1358_2021/blob/master/14octubre_1358.ipynb\" target=\"_parent\"><img src=\"https://colab.research.google.com/assets/colab-badge.svg\" alt=\"Open In Colab\"/></a>"
      ]
    },
    {
      "cell_type": "code",
      "metadata": {
        "id": "haWa6qdYmHjq",
        "outputId": "120f7831-17d1-4180-ed8e-7ad6e22da0bf",
        "colab": {
          "base_uri": "https://localhost:8080/",
          "height": 102
        }
      },
      "source": [
        "# Funciones\n",
        "\n",
        "def calcular(a,b,c):\n",
        "  x = a + ( b/c )\n",
        "  return x\n",
        "\n",
        "\n",
        "print( calcular(5, 9, 3) )\n",
        "# Se asigna el valor del argumento se gun su posicion.\n",
        "print( calcular(5, 3, 9) )\n",
        "# De esta forma se indica al valor de cada argumento, si es que se envian en desorden.\n",
        "print( calcular(a=5, c=3, b=9) )\n",
        "\n",
        "# funcion con argumentos por defecto.\n",
        "def calcular_v2(a = 10, b=20, c=5):\n",
        "  x = a + ( b/c )\n",
        "  return x\n",
        "\n",
        "# si no se envia ningun argumetno toma los valores por defecto en la definición. \n",
        "print(calcular_v2())\n",
        "# con valores\n",
        "print(calcular_v2(40, 8))\n",
        "# aquí se genra una ambiguedad por que esta usando valoes por posicion y de froma explicita.\n",
        "#print(calcular_v2(2, a=10))"
      ],
      "execution_count": 5,
      "outputs": [
        {
          "output_type": "stream",
          "text": [
            "8.0\n",
            "5.333333333333333\n",
            "8.0\n",
            "14.0\n",
            "41.6\n"
          ],
          "name": "stdout"
        }
      ]
    },
    {
      "cell_type": "markdown",
      "metadata": {
        "id": "lBeCS_r7rtxV"
      },
      "source": [
        "# argumentos a funciones por tupla *\n",
        "\n",
        " se envian los argumentos en un conjunto de elementos dentro de una tupla."
      ]
    },
    {
      "cell_type": "code",
      "metadata": {
        "id": "jSvlqnkIr7E3",
        "outputId": "b4fab7f7-658f-4e96-ea7c-aa75ffd66b98",
        "colab": {
          "base_uri": "https://localhost:8080/",
          "height": 51
        }
      },
      "source": [
        "# Funcion que recibe una tupla como argumento\n",
        "def calculo( *elem ):\n",
        "  print(elem)\n",
        "  x = elem[0] + ( elem[1] / elem[2] )\n",
        "  return x\n",
        "\n",
        "print( calculo( 5,9,3 ) )"
      ],
      "execution_count": 8,
      "outputs": [
        {
          "output_type": "stream",
          "text": [
            "(5, 9, 3)\n",
            "8.0\n"
          ],
          "name": "stdout"
        }
      ]
    },
    {
      "cell_type": "markdown",
      "metadata": {
        "id": "FEGQsWQNsuPT"
      },
      "source": [
        "# Argumentos como diccionario **\n",
        "  "
      ]
    },
    {
      "cell_type": "code",
      "metadata": {
        "id": "EIl8FjjLszoE",
        "outputId": "0d65efe3-65f5-4e1b-9a8e-a6b34a6a185e",
        "colab": {
          "base_uri": "https://localhost:8080/",
          "height": 51
        }
      },
      "source": [
        "def calculo_v2( **elem ):\n",
        "  print(elem)\n",
        "  x = elem['a'] + ( elem['b'] / elem['c'] )\n",
        "  return x\n",
        "\n",
        "print( calculo_v2(a=5, b=9, c=3) )"
      ],
      "execution_count": 12,
      "outputs": [
        {
          "output_type": "stream",
          "text": [
            "{'a': 5, 'b': 9, 'c': 3}\n",
            "8.0\n"
          ],
          "name": "stdout"
        }
      ]
    },
    {
      "cell_type": "markdown",
      "metadata": {
        "id": "zpYYdAN-2gXB"
      },
      "source": [
        "# archivos\n",
        "- abrirlos\n",
        "  - un str con la ruta del archivo \n",
        "  - dos caracteres: 1 -> modo de apertura(r,w) y el 2 formato de (texto,binario)\n",
        "- leerlos\n",
        "-modificarlos"
      ]
    },
    {
      "cell_type": "code",
      "metadata": {
        "id": "OyLhDyii3MZ7"
      },
      "source": [
        "# abrir archivo en modo escritura\n",
        "archivo = open('ejemplo.txt', 'wt')\n",
        "# Se escribe un mensaje en el archivo\n",
        "archivo.write(\"Hola mundo de archivos\")\n",
        "# Se recomienda cerrar el archivo cuando ya no se ocupe.\n",
        "archivo.close()"
      ],
      "execution_count": 16,
      "outputs": []
    },
    {
      "cell_type": "code",
      "metadata": {
        "id": "-7hLfvUg4tLj",
        "outputId": "39dabe1f-eb45-48da-f788-f40a886a673c",
        "colab": {
          "base_uri": "https://localhost:8080/",
          "height": 34
        }
      },
      "source": [
        "!(cat ejemplo.txt)\n",
        "!(touch j.txt)"
      ],
      "execution_count": 18,
      "outputs": [
        {
          "output_type": "stream",
          "text": [
            "Hola mundo de archivos"
          ],
          "name": "stdout"
        }
      ]
    }
  ]
}