{
  "nbformat": 4,
  "nbformat_minor": 0,
  "metadata": {
    "colab": {
      "name": "CircularList.ipynb",
      "provenance": [],
      "authorship_tag": "ABX9TyNvkSdlFNBP+ZHKKGz2fExz",
      "include_colab_link": true
    },
    "kernelspec": {
      "name": "python3",
      "display_name": "Python 3"
    }
  },
  "cells": [
    {
      "cell_type": "markdown",
      "metadata": {
        "id": "view-in-github",
        "colab_type": "text"
      },
      "source": [
        "<a href=\"https://colab.research.google.com/github/SergiodotICO/edd_1358_2021/blob/master/CircularList.ipynb\" target=\"_parent\"><img src=\"https://colab.research.google.com/assets/colab-badge.svg\" alt=\"Open In Colab\"/></a>"
      ]
    },
    {
      "cell_type": "code",
      "metadata": {
        "colab": {
          "base_uri": "https://localhost:8080/"
        },
        "id": "3vcBBLSs1RQr",
        "outputId": "59b76bbe-06a6-4443-a52b-013998f3311d"
      },
      "source": [
        "class Nodo:\n",
        "    def __init__(self, dat, next=None):\n",
        "        self.dato = dat\n",
        "        self.next = next\n",
        "\n",
        "class CircularList:\n",
        "    def __init__(self):\n",
        "        self.__ref = None\n",
        "\n",
        "    def is_empty(self):\n",
        "        return self.__ref == None\n",
        "\n",
        "    def insert(self, value):\n",
        "        nuevo = Nodo(value)\n",
        "        curr_node = self.__ref\n",
        "        if self.__ref == None:\n",
        "            self.__ref = nuevo\n",
        "            self.__ref.next = self.__ref\n",
        "        elif value > curr_node.dato:\n",
        "                nuevo.next = self.__ref.next\n",
        "                self.__ref.next = nuevo\n",
        "                self.__ref = nuevo\n",
        "        else:\n",
        "            while True:\n",
        "                if value < curr_node.next.dato:\n",
        "                    nuevo.next = curr_node.next\n",
        "                    curr_node.next = nuevo\n",
        "                    break\n",
        "                curr_node = curr_node.next\n",
        "\n",
        "    def transversal(self):\n",
        "        curr_node = self.__ref.next\n",
        "        if self.__ref == None:\n",
        "            print(\"lista vacia\")\n",
        "        else:\n",
        "            while True:\n",
        "                print(f\"{curr_node.dato} --> \", end=\"\")\n",
        "                if curr_node.dato == self.__ref.dato:\n",
        "                    print(f\"{curr_node.next.dato}\")\n",
        "                    break\n",
        "                curr_node = curr_node.next\n",
        "            print(\"\")\n",
        "\n",
        "    def search(self, value):\n",
        "        curr_node = self.__ref\n",
        "        ex = False\n",
        "        while True:\n",
        "            if curr_node.dato == value:\n",
        "                ex = True\n",
        "                break\n",
        "            curr_node = curr_node.next\n",
        "            if curr_node.dato == self.__ref.dato:\n",
        "                break\n",
        "        return ex\n",
        "    \n",
        "    def remove(self, value):\n",
        "        curr_node = self.__ref\n",
        "        while True:\n",
        "            if curr_node.next.dato == value:\n",
        "                if value == self.__ref.dato:\n",
        "                    curr_node.next = curr_node.next.next\n",
        "                    self.__ref = curr_node\n",
        "                    break\n",
        "                else:\n",
        "                    curr_node.next = curr_node.next.next\n",
        "                    break\n",
        "            curr_node = curr_node.next\n",
        "            if curr_node.dato == self.__ref.dato:\n",
        "                break\n",
        "\n",
        "\n",
        "\n",
        "cl = CircularList()\n",
        "cl.insert(10)\n",
        "cl.transversal()\n",
        "cl.insert(20)\n",
        "cl.insert(40)\n",
        "cl.insert(30)\n",
        "cl.insert(50)\n",
        "cl.insert(9)\n",
        "cl.insert(6)\n",
        "cl.insert(7)\n",
        "cl.insert(90)\n",
        "cl.insert(80)\n",
        "cl.insert(70)\n",
        "cl.transversal()\n",
        "print(cl.search(90))\n",
        "print(cl.search(6))\n",
        "print(cl.search(30))\n",
        "print(cl.search(68))\n",
        "cl.remove(40)\n",
        "cl.transversal()\n",
        "cl.remove(90)\n",
        "cl.transversal()\n",
        "cl.remove(6)\n",
        "cl.transversal()"
      ],
      "execution_count": 1,
      "outputs": [
        {
          "output_type": "stream",
          "text": [
            "10 --> 10\n",
            "\n",
            "6 --> 7 --> 9 --> 10 --> 20 --> 30 --> 40 --> 50 --> 70 --> 80 --> 90 --> 6\n",
            "\n",
            "True\n",
            "True\n",
            "True\n",
            "False\n",
            "6 --> 7 --> 9 --> 10 --> 20 --> 30 --> 50 --> 70 --> 80 --> 90 --> 6\n",
            "\n",
            "6 --> 7 --> 9 --> 10 --> 20 --> 30 --> 50 --> 70 --> 80 --> 6\n",
            "\n",
            "7 --> 9 --> 10 --> 20 --> 30 --> 50 --> 70 --> 80 --> 7\n",
            "\n"
          ],
          "name": "stdout"
        }
      ]
    }
  ]
}