{
  "nbformat": 4,
  "nbformat_minor": 0,
  "metadata": {
    "colab": {
      "name": "23noviembre_1358.ipynb",
      "provenance": [],
      "collapsed_sections": [],
      "authorship_tag": "ABX9TyPwiBTTO4LX8MAgkq3SPYjU",
      "include_colab_link": true
    },
    "kernelspec": {
      "name": "python3",
      "display_name": "Python 3"
    }
  },
  "cells": [
    {
      "cell_type": "markdown",
      "metadata": {
        "id": "view-in-github",
        "colab_type": "text"
      },
      "source": [
        "<a href=\"https://colab.research.google.com/github/SergiodotICO/edd_1358_2021/blob/master/23noviembre_1358.ipynb\" target=\"_parent\"><img src=\"https://colab.research.google.com/assets/colab-badge.svg\" alt=\"Open In Colab\"/></a>"
      ]
    },
    {
      "cell_type": "code",
      "metadata": {
        "id": "xyCDC2q3VXui"
      },
      "source": [
        "class Nodo:\n",
        "    def __init__( self , dato, siguiente=None ):\n",
        "        self.dato = dato\n",
        "        self.siguiente = siguiente\n",
        "\n",
        "class LinkedList:\n",
        "  def __init__( self ):\n",
        "    self.__head = None\n",
        "\n",
        "  def is_empty( self ):\n",
        "    return self.__head == None\n",
        "  \n",
        "  def tail( self ):\n",
        "    curr_node = self.__head\n",
        "    while curr_node != None and curr_node.siguiente != None:\n",
        "      curr_node = curr_node.siguiente\n",
        "    return curr_node\n",
        "\n",
        "  def append( self, value ):\n",
        "    nuevo = Nodo( value )\n",
        "    if self.__head == None:\n",
        "      self.__head = nuevo\n",
        "    else:\n",
        "      self.tail().siguiente = nuevo\n",
        "  \n",
        "  def transversal( self ):\n",
        "    curr_node = self.__head\n",
        "    if curr_node == None:\n",
        "      print(\"Lista vacia\")\n",
        "    else:\n",
        "      while curr_node != None:\n",
        "        print(f\" { curr_node.dato } -->\", end=\"\")\n",
        "        curr_node = curr_node.siguiente\n",
        "    print(\"\")\n",
        "\n",
        "  def prepend( self, value ):\n",
        "    nuevo = Nodo( value )\n",
        "    if self.__head == None:\n",
        "      self.__head = nuevo\n",
        "    else:\n",
        "      x = self.__head\n",
        "      self.__head = nuevo\n",
        "      nuevo.siguiente = x\n",
        "  \"\"\"\n",
        "  Implementacion adecuada\n",
        "  def prepend(self, value):\n",
        "        nuevo = Nodo(value, self.__head)\n",
        "        self.__head = nuevo\n",
        "  \"\"\"\n",
        "  # Hacer remove(value)\n",
        "  # Hacer pop()\n",
        "\n",
        "    \n",
        "\n",
        "  "
      ],
      "execution_count": 15,
      "outputs": []
    },
    {
      "cell_type": "code",
      "metadata": {
        "colab": {
          "base_uri": "https://localhost:8080/"
        },
        "id": "u6JO0qnK4EHj",
        "outputId": "66b84f6f-b7db-4c23-8bbb-60532e2c98fe"
      },
      "source": [
        "# Pruebas\n",
        "l = LinkedList()\n",
        "print(f\"l esta vacia? = {l.is_empty()}\")\n",
        "x = l.tail()\n",
        "print( x )\n",
        "l.append( 10 )\n",
        "l.append( 20 )\n",
        "l.append( 30 )\n",
        "l.append( 40 )\n",
        "l.transversal()\n",
        "l.prepend(5)\n",
        "l.transversal()\n"
      ],
      "execution_count": 16,
      "outputs": [
        {
          "output_type": "stream",
          "text": [
            "l esta vacia? = True\n",
            "None\n",
            " 10 --> 20 --> 30 --> 40 -->\n",
            " 5 --> 10 --> 20 --> 30 --> 40 -->\n"
          ],
          "name": "stdout"
        }
      ]
    }
  ]
}