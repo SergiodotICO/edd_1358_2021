{
  "nbformat": 4,
  "nbformat_minor": 0,
  "metadata": {
    "colab": {
      "name": "5octubre_1358.ipynb",
      "provenance": [],
      "authorship_tag": "ABX9TyMaSimzB3P8Tjql02zhuWyD",
      "include_colab_link": true
    },
    "kernelspec": {
      "name": "python3",
      "display_name": "Python 3"
    }
  },
  "cells": [
    {
      "cell_type": "markdown",
      "metadata": {
        "id": "view-in-github",
        "colab_type": "text"
      },
      "source": [
        "<a href=\"https://colab.research.google.com/github/SergiodotICO/edd_1358_2021/blob/master/5octubre_1358.ipynb\" target=\"_parent\"><img src=\"https://colab.research.google.com/assets/colab-badge.svg\" alt=\"Open In Colab\"/></a>"
      ]
    },
    {
      "cell_type": "code",
      "metadata": {
        "id": "JQS1YABVVRUM",
        "outputId": "7b89a477-b96a-4bab-a4c0-7689c2ca7101",
        "colab": {
          "base_uri": "https://localhost:8080/",
          "height": 88
        }
      },
      "source": [
        "precio = 12.5\n",
        "cantidad = 2\n",
        "existencia = True\n",
        "\n",
        "# precio de los chetos es $12.5 y quiero 2, hay? : True\n",
        "\n",
        "print(\"Precio de los chetos es $\",precio, \" Y quiero\", cantidad, \" , hay?:\", existencia)\n",
        "\n",
        "# Uso de la funcion format de lac clase str\n",
        "\n",
        "print(\"Precio de los chetos es $ {0}  Y quiero {1}  , hay?: {2}\".format(precio,cantidad,existencia))\n",
        "print(\"Precio de los chetos es $ {2}  Y quiero {1}  , hay?: {0}\".format(precio,cantidad,existencia))\n",
        "\n",
        "# operador f\"\"\" notacion similar a format()\n",
        "\n",
        "print(f\"Precio de los chetos es $ {precio}  Y quiero {cantidad}  , hay?: {existencia}\")"
      ],
      "execution_count": 5,
      "outputs": [
        {
          "output_type": "stream",
          "text": [
            "Precio de los chetos es $ 12.5  Y quiero 2  , hay?: True\n",
            "Precio de los chetos es $ 12.5  Y quiero 2  , hay?: True\n",
            "Precio de los chetos es $ True  Y quiero 2  , hay?: 12.5\n",
            "Precio de los chetos es $ 12.5  Y quiero 2  , hay?: True\n"
          ],
          "name": "stdout"
        }
      ]
    },
    {
      "cell_type": "markdown",
      "metadata": {
        "id": "CfIv57DkYM2i"
      },
      "source": [
        "# Listas\n",
        "declaracion: [ ]\n",
        "\n",
        "selector: [ ]\n",
        "\n",
        "mutable\n",
        "\n",
        "# Tuplas\n",
        "declaracion: ( )\n",
        "\n",
        "selector: [ ]\n",
        "\n",
        "No mutable\n",
        "\n",
        "# Diccionarios\n",
        "Conjuntos de datos en pares de llave:valor\n",
        "\n",
        "son mutables\n",
        "\n",
        "equivalentes a los objetos JSON\n",
        "\n",
        "# Conjuntos \n",
        "Grupo de elelemtos con la teoria de conjuntos\n",
        "operaciones de conjuntos."
      ]
    },
    {
      "cell_type": "code",
      "metadata": {
        "id": "R9a3qHYUZYFv",
        "outputId": "5d3c43fd-44a5-4df3-9a39-8839fded0781",
        "colab": {
          "base_uri": "https://localhost:8080/",
          "height": 428
        }
      },
      "source": [
        "# listas\n",
        "materias = [\"CyP\", \"DAA\", \"EDD\", \"IS\", \"POO\"]\n",
        "print(materias)\n",
        "print(materias[2])\n",
        "print(materias[-1])\n",
        "print(materias[4])\n",
        "print(materias[::-1])\n",
        "\n",
        "#crea una lista apartir de una lista\n",
        "\n",
        "fecha = \"05/octubre/2020\"\n",
        "lista_fecha = fecha.split(\"/\")\n",
        "print(lista_fecha)\n",
        "\n",
        "# crear un string apartir de una lista\n",
        "\n",
        "lista_hora = [\"15\",\"22\",\"45\"]\n",
        "hora = \":\".join(lista_hora)\n",
        "print(hora)\n",
        "\n",
        "\n",
        "print(\"---------\")\n",
        "print(materias)\n",
        "print(lista_fecha)\n",
        "print(lista_hora)\n",
        "\n",
        "materias[0] = \"Computadoras y Programacion\"\n",
        "print (materias)\n",
        "\n",
        "# agregar\n",
        "materias.append(\"Calidad\")\n",
        "print(materias)\n",
        "# Inserta un eelemeto en la posocion indicada \n",
        "materias.insert(2, \"Emprendimiento\")\n",
        "print(materias)\n",
        "\n",
        "# regresa el ultimo elemento por defecto o el indicado en el indice\n",
        "\n",
        "materia = materias.pop()\n",
        "print(materia)\n",
        "print(materias)\n",
        "\n",
        "materia = materias.pop(1)\n",
        "print(materia)\n",
        "print(materias)\n",
        "\n",
        "#vaciar listas\n",
        "materias.clear()\n",
        "print(materias)\n",
        "\n",
        "# slicing[::]\n",
        "\n",
        "print(\"Slicing\")\n",
        "numeros = [0, 1, 2, 3, 4, 5, 6, 7, 8, 9, 10]\n",
        "print(numeros)\n",
        "print(numeros[4:9:1])\n",
        "\n",
        "# sustituir un segmento con Slicing\n",
        "numeros[4:9:1] = [-2,-3]\n",
        "print(numeros)"
      ],
      "execution_count": 24,
      "outputs": [
        {
          "output_type": "stream",
          "text": [
            "['CyP', 'DAA', 'EDD', 'IS', 'POO']\n",
            "EDD\n",
            "POO\n",
            "POO\n",
            "['POO', 'IS', 'EDD', 'DAA', 'CyP']\n",
            "['05', 'octubre', '2020']\n",
            "15:22:45\n",
            "---------\n",
            "['CyP', 'DAA', 'EDD', 'IS', 'POO']\n",
            "['05', 'octubre', '2020']\n",
            "['15', '22', '45']\n",
            "['Computadoras y Programacion', 'DAA', 'EDD', 'IS', 'POO']\n",
            "['Computadoras y Programacion', 'DAA', 'EDD', 'IS', 'POO', 'Calidad']\n",
            "['Computadoras y Programacion', 'DAA', 'Emprendimiento', 'EDD', 'IS', 'POO', 'Calidad']\n",
            "Calidad\n",
            "['Computadoras y Programacion', 'DAA', 'Emprendimiento', 'EDD', 'IS', 'POO']\n",
            "DAA\n",
            "['Computadoras y Programacion', 'Emprendimiento', 'EDD', 'IS', 'POO']\n",
            "[]\n",
            "Slicing\n",
            "[0, 1, 2, 3, 4, 5, 6, 7, 8, 9, 10]\n",
            "[4, 5, 6, 7, 8]\n",
            "[0, 1, 2, 3, -2, -3, 9, 10]\n"
          ],
          "name": "stdout"
        }
      ]
    },
    {
      "cell_type": "code",
      "metadata": {
        "id": "ZQBfDmxOh6uk",
        "outputId": "f4e6ef24-e328-46f7-c444-b46ecf092e23",
        "colab": {
          "base_uri": "https://localhost:8080/",
          "height": 53
        }
      },
      "source": [
        "autos = [\"Mazda\", \"Honda\", \"Akura\", \"Ford\", \"VW\"]\n",
        "telefonos = [\"iPhone\", \"Huawei Mate JU\", \"Xiami s10\", \"Alcatel\"]\n",
        "sistemas_operativos = [ \"Windows\", \"Linux\", \"Android\", \"iOS\", \"MacOs\" ]\n",
        "\n",
        "lista_2d = [autos, telefonos, sistemas_operativos]\n",
        "print(lista_2d)\n",
        "print(lista_2d[1][1])"
      ],
      "execution_count": 27,
      "outputs": [
        {
          "output_type": "stream",
          "text": [
            "[['Mazda', 'Honda', 'Akura', 'Ford', 'VW'], ['iPhone', 'Huawei Mate JU', 'Xiami s10', 'Alcatel'], ['Windows', 'Linux', 'Android', 'iOS', 'MacOs']]\n",
            "Huawei Mate JU\n"
          ],
          "name": "stdout"
        }
      ]
    }
  ]
}