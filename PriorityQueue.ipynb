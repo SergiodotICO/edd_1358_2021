{
  "nbformat": 4,
  "nbformat_minor": 0,
  "metadata": {
    "colab": {
      "name": "PriorityQueue.ipynb",
      "provenance": [],
      "authorship_tag": "ABX9TyOAmB8Mya1AhRr3xiDkqix6",
      "include_colab_link": true
    },
    "kernelspec": {
      "name": "python3",
      "display_name": "Python 3"
    }
  },
  "cells": [
    {
      "cell_type": "markdown",
      "metadata": {
        "id": "view-in-github",
        "colab_type": "text"
      },
      "source": [
        "<a href=\"https://colab.research.google.com/github/SergiodotICO/edd_1358_2021/blob/master/PriorityQueue.ipynb\" target=\"_parent\"><img src=\"https://colab.research.google.com/assets/colab-badge.svg\" alt=\"Open In Colab\"/></a>"
      ]
    },
    {
      "cell_type": "code",
      "metadata": {
        "id": "9WlfHrm80eDY"
      },
      "source": [
        "class Queue:\r\n",
        "    def __init__(self):\r\n",
        "        self.__data = list()\r\n",
        "\r\n",
        "    def is_empty(self):\r\n",
        "        return len(self.__data) == 0\r\n",
        "\r\n",
        "    def length(self):\r\n",
        "        return len(self.__data)\r\n",
        "\r\n",
        "    def enqueue(self, item):\r\n",
        "        self.__data.append(item)\r\n",
        "\r\n",
        "    def dequeue(self):\r\n",
        "        if not self.is_empty():\r\n",
        "            return self.__data.pop(0)\r\n",
        "        else:\r\n",
        "            return None\r\n",
        "\r\n",
        "    def to_string(self):\r\n",
        "        cdena = \"\"\r\n",
        "        for elem in self.__data:\r\n",
        "            cdena = cdena + \"|\" + elem\r\n",
        "        cdena = cdena + \"|\"\r\n",
        "        return cdena"
      ],
      "execution_count": 1,
      "outputs": []
    },
    {
      "cell_type": "code",
      "metadata": {
        "id": "xy17hJbo0l52"
      },
      "source": [
        "class PriorityQueue:\r\n",
        "    def __init__(self, niveles):\r\n",
        "        self.__data = [Queue() for x in range(niveles)]\r\n",
        "        self.__size = 0\r\n",
        "\r\n",
        "    def is_empty(self):\r\n",
        "        return self.__size == 0\r\n",
        "\r\n",
        "    def length(self):\r\n",
        "        return self.__size\r\n",
        "\r\n",
        "    def enqueue(self, prioridad, elem):\r\n",
        "        if prioridad < len(self.__data) and prioridad >= 0:\r\n",
        "            self.__data[prioridad].enqueue(elem)\r\n",
        "            self.__size += 1\r\n",
        "        else:\r\n",
        "            nuevo = Queue()\r\n",
        "            nuevo.enqueue(elem)\r\n",
        "            self.__data.append(nuevo)\r\n",
        "            self.__size += 1\r\n",
        "            \r\n",
        "\r\n",
        "    def dequeue(self):\r\n",
        "        if not self.is_empty():\r\n",
        "            nivel = 0\r\n",
        "            while self.__data[nivel].is_empty():\r\n",
        "                nivel += 1\r\n",
        "            return self.__data[nivel].dequeue()\r\n",
        "\r\n",
        "    def to_string(self):\r\n",
        "        for nivel in range(len(self.__data)):\r\n",
        "            print(f\"Nivel {nivel} --> {self.__data[nivel].to_string()}\")"
      ],
      "execution_count": 2,
      "outputs": []
    },
    {
      "cell_type": "code",
      "metadata": {
        "colab": {
          "base_uri": "https://localhost:8080/"
        },
        "id": "W5RLMBw_0zen",
        "outputId": "6681c429-fad2-48de-a745-e0a2a49f23d7"
      },
      "source": [
        "colaNoAcotada = PriorityQueue(4)\r\n",
        "colaNoAcotada.enqueue(0,\"elemento_1\")\r\n",
        "colaNoAcotada.enqueue(0,\"elemento_2\")\r\n",
        "colaNoAcotada.enqueue(3,\"elemento_3\")\r\n",
        "colaNoAcotada.enqueue(3,\"elemento_4\")\r\n",
        "colaNoAcotada.enqueue(1,\"elemento_5\")\r\n",
        "colaNoAcotada.to_string()\r\n",
        "print(\"-------------------\")\r\n",
        "# Elemetos que no contemplados originalmente\r\n",
        "colaNoAcotada.enqueue(4,\"elemento_extra1\")\r\n",
        "colaNoAcotada.enqueue(4,\"elemento_extra2\")\r\n",
        "colaNoAcotada.to_string()\r\n",
        "print(\"-------------------\")\r\n",
        "# Elemetos que salen del rango de indices\r\n",
        "colaNoAcotada.enqueue(6,\"elemento_extra3\")\r\n",
        "colaNoAcotada.enqueue(6,\"elemento_extra4\")\r\n",
        "colaNoAcotada.enqueue(8,\"elemento_extra5\")\r\n",
        "colaNoAcotada.to_string()\r\n",
        "print(colaNoAcotada.length())"
      ],
      "execution_count": 3,
      "outputs": [
        {
          "output_type": "stream",
          "text": [
            "Nivel 0 --> |elemento_1|elemento_2|\n",
            "Nivel 1 --> |elemento_5|\n",
            "Nivel 2 --> |\n",
            "Nivel 3 --> |elemento_3|elemento_4|\n",
            "-------------------\n",
            "Nivel 0 --> |elemento_1|elemento_2|\n",
            "Nivel 1 --> |elemento_5|\n",
            "Nivel 2 --> |\n",
            "Nivel 3 --> |elemento_3|elemento_4|\n",
            "Nivel 4 --> |elemento_extra1|elemento_extra2|\n",
            "-------------------\n",
            "Nivel 0 --> |elemento_1|elemento_2|\n",
            "Nivel 1 --> |elemento_5|\n",
            "Nivel 2 --> |\n",
            "Nivel 3 --> |elemento_3|elemento_4|\n",
            "Nivel 4 --> |elemento_extra1|elemento_extra2|\n",
            "Nivel 5 --> |elemento_extra3|\n",
            "Nivel 6 --> |elemento_extra4|\n",
            "Nivel 7 --> |elemento_extra5|\n",
            "10\n"
          ],
          "name": "stdout"
        }
      ]
    }
  ]
}