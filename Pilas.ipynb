{
  "nbformat": 4,
  "nbformat_minor": 0,
  "metadata": {
    "colab": {
      "name": "Pilas.ipynb",
      "provenance": [],
      "authorship_tag": "ABX9TyO+zalbdqTCr9ET19E8j0UV",
      "include_colab_link": true
    },
    "kernelspec": {
      "name": "python3",
      "display_name": "Python 3"
    }
  },
  "cells": [
    {
      "cell_type": "markdown",
      "metadata": {
        "id": "view-in-github",
        "colab_type": "text"
      },
      "source": [
        "<a href=\"https://colab.research.google.com/github/SergiodotICO/edd_1358_2021/blob/master/Pilas.ipynb\" target=\"_parent\"><img src=\"https://colab.research.google.com/assets/colab-badge.svg\" alt=\"Open In Colab\"/></a>"
      ]
    },
    {
      "cell_type": "code",
      "metadata": {
        "id": "yYCk_uq1GEme"
      },
      "source": [
        "class Stack:\n",
        "  def __init__( self ):\n",
        "    self.__data = []\n",
        "    self.__size = 0\n",
        "  \n",
        "  def pop( self ):\n",
        "    return self.__data.pop()\n",
        "  \n",
        "  def peek( self ):\n",
        "    return self.__data[-1]\n",
        "  \n",
        "  def push( self, value ):\n",
        "    self.__data.append(value)\n",
        "\n",
        "  def to_string( self ):\n",
        "    print(\"------\")\n",
        "    for dato in self.__data[::-1]:\n",
        "      print(f\"| {dato} |\")\n",
        "      print(\"------\")"
      ],
      "execution_count": 5,
      "outputs": []
    },
    {
      "cell_type": "code",
      "metadata": {
        "colab": {
          "base_uri": "https://localhost:8080/"
        },
        "id": "CgkfRlgkGP2A",
        "outputId": "4eff72ee-ef62-432c-d36e-6ef582267f15"
      },
      "source": [
        "#cadena = \"b=3*(5+(4/2))\"\n",
        "cadena = \"))))(((\"\n",
        "pila = Stack()\n",
        "pila.push(\"#\") # Caracter de pila vacia.\n",
        "\n",
        "for elem in cadena:\n",
        "  if elem == '(':\n",
        "    pila.push('*')\n",
        "for elem in cadena:\n",
        "  if elem == ')':\n",
        "    if pila.peek() != '#':\n",
        "      pila.pop()\n",
        "    else:\n",
        "      pila.push('*')\n",
        "      break\n",
        "\n",
        "if pila.peek() == '#':\n",
        "  print(\"La expresión esta balanceada en paréntesis\")\n",
        "else:\n",
        "  print(\"La expresión no esta balanceada\")"
      ],
      "execution_count": 8,
      "outputs": [
        {
          "output_type": "stream",
          "text": [
            "La expresión no esta balanceada\n"
          ],
          "name": "stdout"
        }
      ]
    }
  ]
}