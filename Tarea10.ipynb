{
  "nbformat": 4,
  "nbformat_minor": 0,
  "metadata": {
    "colab": {
      "name": "Tarea10.ipynb",
      "provenance": [],
      "collapsed_sections": [],
      "authorship_tag": "ABX9TyNbLBpnLS5B1OMGWif3yLBV",
      "include_colab_link": true
    },
    "kernelspec": {
      "name": "python3",
      "display_name": "Python 3"
    }
  },
  "cells": [
    {
      "cell_type": "markdown",
      "metadata": {
        "id": "view-in-github",
        "colab_type": "text"
      },
      "source": [
        "<a href=\"https://colab.research.google.com/github/SergiodotICO/edd_1358_2021/blob/master/Tarea10.ipynb\" target=\"_parent\"><img src=\"https://colab.research.google.com/assets/colab-badge.svg\" alt=\"Open In Colab\"/></a>"
      ]
    },
    {
      "cell_type": "code",
      "metadata": {
        "colab": {
          "base_uri": "https://localhost:8080/"
        },
        "id": "LRPStpGjTt7w",
        "outputId": "c7b8bb91-99fd-40e4-eddb-30781d19ec63"
      },
      "source": [
        "# Ejercicico 1:\r\n",
        "def sumlist(lista):\r\n",
        "    if len(lista) == 1:\r\n",
        "        return lista.pop()\r\n",
        "    else:\r\n",
        "        return lista.pop() + sumlist(lista)\r\n",
        "\r\n",
        "\r\n",
        "datos = [1,1,1,1,1,1,1,1,1,1]\r\n",
        "datos1 = [3,5,8,9,7,1,0,3,4,1]\r\n",
        "datos2 = [9,10,12,15,7,3,6,2,4,5]\r\n",
        "\r\n",
        "print(sumlist(datos))\r\n",
        "print(sumlist(datos1))\r\n",
        "print(sumlist(datos2))"
      ],
      "execution_count": 1,
      "outputs": [
        {
          "output_type": "stream",
          "text": [
            "10\n",
            "41\n",
            "73\n"
          ],
          "name": "stdout"
        }
      ]
    },
    {
      "cell_type": "code",
      "metadata": {
        "colab": {
          "base_uri": "https://localhost:8080/"
        },
        "id": "cppFah7pT6ON",
        "outputId": "19b5a2f1-4d59-41de-b6bb-022591e011d0"
      },
      "source": [
        "# Ejercicio 2:\r\n",
        "def Re_contator (numero):\r\n",
        "    if numero >=  0:\r\n",
        "        print(numero)\r\n",
        "        Re_contator(numero - 1)\r\n",
        "    else:\r\n",
        "        print(\"¡Boom! la bomba exploto\")\r\n",
        "\r\n",
        "Re_contator(10)"
      ],
      "execution_count": 2,
      "outputs": [
        {
          "output_type": "stream",
          "text": [
            "10\n",
            "9\n",
            "8\n",
            "7\n",
            "6\n",
            "5\n",
            "4\n",
            "3\n",
            "2\n",
            "1\n",
            "0\n",
            "¡Boom! la bomba exploto\n"
          ],
          "name": "stdout"
        }
      ]
    },
    {
      "cell_type": "code",
      "metadata": {
        "colab": {
          "base_uri": "https://localhost:8080/"
        },
        "id": "1UFPqeHEUBj3",
        "outputId": "7ad473db-de11-4aff-ab3b-0be5bd3a6862"
      },
      "source": [
        "# Ejercicio 3:\r\n",
        "class Stack:\r\n",
        "    def __init__(self):\r\n",
        "        self.__data = []\r\n",
        "        self.__size = 0\r\n",
        "\r\n",
        "    def pop(self):\r\n",
        "        return self.__data.pop()\r\n",
        "\r\n",
        "    def size(self):\r\n",
        "        return len(self.__data)\r\n",
        "\r\n",
        "    def peek(self):\r\n",
        "        return self.__data[-1]\r\n",
        "\r\n",
        "    def push(self, value):\r\n",
        "        self.__data.append(value)\r\n",
        "\r\n",
        "    def to_string(self):\r\n",
        "        print(\"------\")\r\n",
        "        for dato in self.__data[::-1]:\r\n",
        "            print(f\"| {dato} |\")\r\n",
        "            print(\"------\")\r\n",
        "\r\n",
        "\r\n",
        "def Pmedia(pila,tamaño):\r\n",
        "    # Condición para verificar si es la posición media.\r\n",
        "    if tamaño//2 != pila.size():\r\n",
        "        # Guarda el elemento extraido.\r\n",
        "        elem = pila.pop()\r\n",
        "        # Guarada el valor de la posición media.\r\n",
        "        aux = Pmedia(pila, tamaño)\r\n",
        "        # Ingresa los elementos extraidos.\r\n",
        "        pila.push(elem)\r\n",
        "    else:\r\n",
        "        # Resgresa el valor de la posición media.\r\n",
        "        return pila.pop()\r\n",
        "    # Muestra la pila.\r\n",
        "    pila.to_string()\r\n",
        "    # Regresa el valor de la posicion media.\r\n",
        "    return aux\r\n",
        "\r\n",
        "valores = [1,2,3,4,5,6,7,8,9,10]\r\n",
        "pila = Stack()\r\n",
        "# Llena la pila\r\n",
        "for elem in valores:\r\n",
        "    pila.push(elem)\r\n",
        "# Guarda el valor de la posición media de la pila.\r\n",
        "valorm = Pmedia(pila,pila.size())\r\n",
        "print(f\"Valor de la posición media de la pila: {valorm}\")"
      ],
      "execution_count": 7,
      "outputs": [
        {
          "output_type": "stream",
          "text": [
            "------\n",
            "| 6 |\n",
            "------\n",
            "| 4 |\n",
            "------\n",
            "| 3 |\n",
            "------\n",
            "| 2 |\n",
            "------\n",
            "| 1 |\n",
            "------\n",
            "------\n",
            "| 7 |\n",
            "------\n",
            "| 6 |\n",
            "------\n",
            "| 4 |\n",
            "------\n",
            "| 3 |\n",
            "------\n",
            "| 2 |\n",
            "------\n",
            "| 1 |\n",
            "------\n",
            "------\n",
            "| 8 |\n",
            "------\n",
            "| 7 |\n",
            "------\n",
            "| 6 |\n",
            "------\n",
            "| 4 |\n",
            "------\n",
            "| 3 |\n",
            "------\n",
            "| 2 |\n",
            "------\n",
            "| 1 |\n",
            "------\n",
            "------\n",
            "| 9 |\n",
            "------\n",
            "| 8 |\n",
            "------\n",
            "| 7 |\n",
            "------\n",
            "| 6 |\n",
            "------\n",
            "| 4 |\n",
            "------\n",
            "| 3 |\n",
            "------\n",
            "| 2 |\n",
            "------\n",
            "| 1 |\n",
            "------\n",
            "------\n",
            "| 10 |\n",
            "------\n",
            "| 9 |\n",
            "------\n",
            "| 8 |\n",
            "------\n",
            "| 7 |\n",
            "------\n",
            "| 6 |\n",
            "------\n",
            "| 4 |\n",
            "------\n",
            "| 3 |\n",
            "------\n",
            "| 2 |\n",
            "------\n",
            "| 1 |\n",
            "------\n",
            "Valor de la posición media de la pila: 5\n"
          ],
          "name": "stdout"
        }
      ]
    }
  ]
}