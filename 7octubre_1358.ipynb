{
  "nbformat": 4,
  "nbformat_minor": 0,
  "metadata": {
    "colab": {
      "name": "7octubre_1358.ipynb",
      "provenance": [],
      "authorship_tag": "ABX9TyOHA6UAlOFlEWRu4JBbt7xZ",
      "include_colab_link": true
    },
    "kernelspec": {
      "name": "python3",
      "display_name": "Python 3"
    }
  },
  "cells": [
    {
      "cell_type": "markdown",
      "metadata": {
        "id": "view-in-github",
        "colab_type": "text"
      },
      "source": [
        "<a href=\"https://colab.research.google.com/github/SergiodotICO/edd_1358_2021/blob/master/7octubre_1358.ipynb\" target=\"_parent\"><img src=\"https://colab.research.google.com/assets/colab-badge.svg\" alt=\"Open In Colab\"/></a>"
      ]
    },
    {
      "cell_type": "code",
      "metadata": {
        "id": "jToIltZclMwh",
        "outputId": "ae4835d1-6283-4292-d0ea-34045304f5ce",
        "colab": {
          "base_uri": "https://localhost:8080/"
        }
      },
      "source": [
        "# Listas de dos dimenciones\n",
        "autos = [\"Mazda\",\"honda\",\"Akura\",\"Ford\",\"VW\"]\n",
        "telefonos = [\"iPhone\",\"Huawei Mate 30\", \"Xiaomi S10\",\"Alcatel t1000\"]\n",
        "sistemas_operativos = [ \"Windows\", \"Linux\" , \"Android\" , \"iOS\" ,\"MacOs\" ]\n",
        "procesadores = [[\"Intel\", 3.1, True],[\"Amd\", 2.7, False],[\"Motorola\",1.1, False]]\n",
        "\n",
        "lista_nd = [autos,telefonos,sistemas_operativos,procesadores]\n",
        "print(lista_nd)\n",
        "print(\"---\")\n",
        "print(lista_nd[1][1][3:6])\n",
        "print(\"---\")\n",
        "print(lista_nd[3][2][0][2:6])\n",
        "print(\"---\")\n",
        "print(lista_nd[3][0][0][-2:-5:-1])\n",
        "\n",
        "colores = [\"rojo\", \"verde\", \"azul\", \"negro\"]\n",
        "flores = [\"Margarita\", \"rosa\"]\n",
        "# Concatenar listas no modifica listas originales\n",
        "nueva = colores + flores\n",
        "print(nueva)\n",
        "print(colores)\n",
        "print(flores)\n",
        "# Con extends modifica la laista desde la que se llama\n",
        "colores.extend(flores)\n",
        "print(colores)\n",
        "\n",
        "# unpacking de listas\n",
        "print(\"unpacking\")\n",
        "datos_personales = [\"José\", \"Pérez\", \"Juarez\", 22, 1.67, True]\n",
        "nombre, paterno, materno, edad, est,fuma = datos_personales\n",
        "print( nombre, paterno, materno, edad, est, fuma )"
      ],
      "execution_count": 23,
      "outputs": [
        {
          "output_type": "stream",
          "text": [
            "[['Mazda', 'honda', 'Akura', 'Ford', 'VW'], ['iPhone', 'Huawei Mate 30', 'Xiaomi S10', 'Alcatel t1000'], ['Windows', 'Linux', 'Android', 'iOS', 'MacOs'], [['Intel', 3.1, True], ['Amd', 2.7, False], ['Motorola', 1.1, False]]]\n",
            "---\n",
            "wei\n",
            "---\n",
            "toro\n",
            "---\n",
            "etn\n",
            "['rojo', 'verde', 'azul', 'negro', 'Margarita', 'rosa']\n",
            "['rojo', 'verde', 'azul', 'negro']\n",
            "['Margarita', 'rosa']\n",
            "['rojo', 'verde', 'azul', 'negro', 'Margarita', 'rosa']\n",
            "unpacking\n",
            "José Pérez Juarez 22 1.67 True\n"
          ],
          "name": "stdout"
        }
      ]
    },
    {
      "cell_type": "code",
      "metadata": {
        "id": "p9YjehM6t1Ai",
        "outputId": "1ee088d5-45e6-4e60-dfed-1258bdf6a8a2",
        "colab": {
          "base_uri": "https://localhost:8080/"
        }
      },
      "source": [
        "# Tuplas\n",
        "bd = ('127.1', 'root', 'toor', '1345')\n",
        "print(f\"usuario de la base de datos es: {bd[1]}\")\n",
        "# bd[1] = 'user1' no permite modificacion de elementos\n",
        "# slicing\n",
        "print(bd[1:3])\n",
        "\n"
      ],
      "execution_count": 28,
      "outputs": [
        {
          "output_type": "stream",
          "text": [
            "usuario de la base de datos es: root\n",
            "('root', 'toor')\n"
          ],
          "name": "stdout"
        }
      ]
    },
    {
      "cell_type": "code",
      "metadata": {
        "id": "-58_MvF2wF48",
        "outputId": "642321a4-1a08-4b57-83a3-1336254bb90f",
        "colab": {
          "base_uri": "https://localhost:8080/"
        }
      },
      "source": [
        "# Diccionarios\n",
        "alumno = {'Nombre':'Juan', 'Edad':22, 'Carrera':'ICO'}\n",
        "print(alumno)\n",
        "print(alumno['Edad'])\n",
        "alumno = {\n",
        "    'nombre':'Juan', \n",
        "    'edad':22, \n",
        "    'carrera':'ICO',\n",
        "    'direccion' : {'Calle': 'Bosques de áfrica',\n",
        "                  'numero':33,\n",
        "                  'delegacion': 'Nezahualcoyotl',\n",
        "                  'Estado':15,\n",
        "                  'nombre_estado':'Estado de México'\n",
        "                  }\n",
        "    }\n",
        "print(alumno)\n",
        "print(alumno['direccion']['delegacion'])\n",
        "print(alumno['direccion']['delegacion'][3:7].upper())\n",
        "print( alumno['direccion']['delegacion'].upper() )\n",
        "# Modificar\n",
        "alumno['edad'] = 35\n",
        "print(alumno)\n",
        "# Agregar un campo\n",
        "alumno['promedio'] = 9.9\n",
        "print(alumno)\n",
        "alumno['direccion']['codigo_postal'] = 17170\n",
        "print(alumno)\n",
        "alumno['materia'] = {'nombre':'CyP','calificacion':10}\n",
        "print(alumno)\n",
        "\n",
        "cliente = {  'id'  : 1, 'nombre' : \"Caslos Slim\" }\n",
        "print(cliente)"
      ],
      "execution_count": 42,
      "outputs": [
        {
          "output_type": "stream",
          "text": [
            "{'Nombre': 'Juan', 'Edad': 22, 'Carrera': 'ICO'}\n",
            "22\n",
            "{'nombre': 'Juan', 'edad': 22, 'carrera': 'ICO', 'direccion': {'Calle': 'Bosques de áfrica', 'numero': 33, 'delegacion': 'Nezahualcoyotl', 'Estado': 15, 'nombre_estado': 'Estado de México'}}\n",
            "Nezahualcoyotl\n",
            "AHUA\n",
            "NEZAHUALCOYOTL\n",
            "{'nombre': 'Juan', 'edad': 35, 'carrera': 'ICO', 'direccion': {'Calle': 'Bosques de áfrica', 'numero': 33, 'delegacion': 'Nezahualcoyotl', 'Estado': 15, 'nombre_estado': 'Estado de México'}}\n",
            "{'nombre': 'Juan', 'edad': 35, 'carrera': 'ICO', 'direccion': {'Calle': 'Bosques de áfrica', 'numero': 33, 'delegacion': 'Nezahualcoyotl', 'Estado': 15, 'nombre_estado': 'Estado de México'}, 'promedio': 9.9}\n",
            "{'nombre': 'Juan', 'edad': 35, 'carrera': 'ICO', 'direccion': {'Calle': 'Bosques de áfrica', 'numero': 33, 'delegacion': 'Nezahualcoyotl', 'Estado': 15, 'nombre_estado': 'Estado de México', 'codigo_postal': 17170}, 'promedio': 9.9}\n",
            "{'nombre': 'Juan', 'edad': 35, 'carrera': 'ICO', 'direccion': {'Calle': 'Bosques de áfrica', 'numero': 33, 'delegacion': 'Nezahualcoyotl', 'Estado': 15, 'nombre_estado': 'Estado de México', 'codigo_postal': 17170}, 'promedio': 9.9, 'materia': {'nombre': 'CyP', 'calificacion': 10}}\n",
            "{}\n"
          ],
          "name": "stdout"
        }
      ]
    }
  ]
}