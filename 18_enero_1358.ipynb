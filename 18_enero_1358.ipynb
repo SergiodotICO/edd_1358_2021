{
  "nbformat": 4,
  "nbformat_minor": 0,
  "metadata": {
    "colab": {
      "name": "18_enero_1358.ipynb",
      "provenance": [],
      "collapsed_sections": [],
      "authorship_tag": "ABX9TyODLap6cEiyTVGRW7MFcDz1",
      "include_colab_link": true
    },
    "kernelspec": {
      "name": "python3",
      "display_name": "Python 3"
    }
  },
  "cells": [
    {
      "cell_type": "markdown",
      "metadata": {
        "id": "view-in-github",
        "colab_type": "text"
      },
      "source": [
        "<a href=\"https://colab.research.google.com/github/SergiodotICO/edd_1358_2021/blob/master/18_enero_1358.ipynb\" target=\"_parent\"><img src=\"https://colab.research.google.com/assets/colab-badge.svg\" alt=\"Open In Colab\"/></a>"
      ]
    },
    {
      "cell_type": "code",
      "metadata": {
        "id": "HljWnIMmzIhD"
      },
      "source": [
        "class NodoArbol:\r\n",
        "  def __init__(self, value, left=None, right=None):\r\n",
        "    self.data = value\r\n",
        "    self.left = left\r\n",
        "    self.right = right"
      ],
      "execution_count": 2,
      "outputs": []
    },
    {
      "cell_type": "code",
      "metadata": {
        "id": "4ujVW0OC8Fh-"
      },
      "source": [
        "class ArbolBinarioBusqueda:\r\n",
        "  def __init__ ( self ):\r\n",
        "    self.__root = None\r\n",
        "\r\n",
        "  def insert(self, value):\r\n",
        "    if self.__root == None:\r\n",
        "      self.__root = NodoArbol( value )\r\n",
        "    else:\r\n",
        "      self.__insert__( self.__root, value )\r\n",
        "\r\n",
        "  def __insert__( self, nodo, value ): # Recursividad\r\n",
        "    if nodo.data == value:\r\n",
        "      print(\"El nodo ya existe, no se inserta: \", value)\r\n",
        "    elif value < nodo.data:\r\n",
        "      # ir a la izquierdad\r\n",
        "      if nodo.left == None:\r\n",
        "        nodo.left = NodoArbol( value )\r\n",
        "      else:\r\n",
        "        self.__insert__( nodo.left, value )\r\n",
        "    else:\r\n",
        "      # ir a la derecha\r\n",
        "      if nodo.right == None:\r\n",
        "        nodo.right = NodoArbol( value )\r\n",
        "      else:\r\n",
        "        self.__insert__(nodo.right, value)"
      ],
      "execution_count": 10,
      "outputs": []
    },
    {
      "cell_type": "code",
      "metadata": {
        "colab": {
          "base_uri": "https://localhost:8080/"
        },
        "id": "TBe7CWAycuxG",
        "outputId": "1fcfedd0-2d4a-4f5b-9e1d-35f12118a938"
      },
      "source": [
        "abb = ArbolBinarioBusqueda()\r\n",
        "abb.insert(40)\r\n",
        "abb.insert(40)\r\n",
        "abb.insert(30)\r\n",
        "abb.insert(50)\r\n",
        "abb.insert(30)\r\n",
        "abb.insert(50)"
      ],
      "execution_count": 13,
      "outputs": [
        {
          "output_type": "stream",
          "text": [
            "El nodo ya existe, no se inserta:  40\n",
            "El nodo ya existe, no se inserta:  30\n",
            "El nodo ya existe, no se inserta:  50\n"
          ],
          "name": "stdout"
        }
      ]
    }
  ]
}