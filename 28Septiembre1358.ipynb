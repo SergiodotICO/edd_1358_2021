{
  "nbformat": 4,
  "nbformat_minor": 0,
  "metadata": {
    "colab": {
      "name": "28Septiembre1358.ipynb",
      "provenance": [],
      "authorship_tag": "ABX9TyN/jEVYM5HZxkiXWfwhWQZF",
      "include_colab_link": true
    },
    "kernelspec": {
      "name": "python3",
      "display_name": "Python 3"
    }
  },
  "cells": [
    {
      "cell_type": "markdown",
      "metadata": {
        "id": "view-in-github",
        "colab_type": "text"
      },
      "source": [
        "<a href=\"https://colab.research.google.com/github/SergiodotICO/edd_1358_2021/blob/master/28Septiembre1358.ipynb\" target=\"_parent\"><img src=\"https://colab.research.google.com/assets/colab-badge.svg\" alt=\"Open In Colab\"/></a>"
      ]
    },
    {
      "cell_type": "code",
      "metadata": {
        "id": "uZwZX5UJlOyz"
      },
      "source": [
        "class silla(object):\n",
        "  def __init__(self):\n",
        "    self.material = \"\"\n",
        "    self.color = \"\"\n",
        "  def to_string(self):\n",
        "   print(\"-----\")\n",
        "   print(f\"Material: {self.material}\")\n",
        "   print(f\"{self.color}------\")"
      ],
      "execution_count": 4,
      "outputs": []
    },
    {
      "cell_type": "code",
      "metadata": {
        "id": "mfMXsCaxqO-p",
        "outputId": "2caf3d51-9383-42fa-de1e-189558162067",
        "colab": {
          "base_uri": "https://localhost:8080/",
          "height": 124
        }
      },
      "source": [
        "obj=silla()\n",
        "obj.to_string()\n",
        "obj.color = \"Cafe\"\n",
        "obj.material = \"Madera\"\n",
        "obj.to_string()"
      ],
      "execution_count": 6,
      "outputs": [
        {
          "output_type": "stream",
          "text": [
            "-----\n",
            "Material: \n",
            "------\n",
            "-----\n",
            "Material: Madera\n",
            "Cafe------\n"
          ],
          "name": "stdout"
        }
      ]
    }
  ]
}