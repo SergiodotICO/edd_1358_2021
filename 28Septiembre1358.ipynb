{
  "nbformat": 4,
  "nbformat_minor": 0,
  "metadata": {
    "colab": {
      "name": "28Septiembre1358.ipynb",
      "provenance": [],
      "authorship_tag": "ABX9TyNDVrkN5EZJc09dw+/yi3k1",
      "include_colab_link": true
    },
    "kernelspec": {
      "name": "python3",
      "display_name": "Python 3"
    }
  },
  "cells": [
    {
      "cell_type": "markdown",
      "metadata": {
        "id": "view-in-github",
        "colab_type": "text"
      },
      "source": [
        "<a href=\"https://colab.research.google.com/github/SergiodotICO/edd_1358_2021/blob/master/28Septiembre1358.ipynb\" target=\"_parent\"><img src=\"https://colab.research.google.com/assets/colab-badge.svg\" alt=\"Open In Colab\"/></a>"
      ]
    },
    {
      "cell_type": "code",
      "metadata": {
        "id": "uZwZX5UJlOyz"
      },
      "source": [
        "class silla(objet):\n",
        "  def__init__(self):\n",
        "    self"
      ],
      "execution_count": null,
      "outputs": []
    }
  ]
}