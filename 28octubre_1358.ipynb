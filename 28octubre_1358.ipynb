{
  "nbformat": 4,
  "nbformat_minor": 0,
  "metadata": {
    "colab": {
      "name": "28octubre_1358.ipynb",
      "provenance": [],
      "authorship_tag": "ABX9TyOgw2MrowX/lfHy/usEz+Wr",
      "include_colab_link": true
    },
    "kernelspec": {
      "name": "python3",
      "display_name": "Python 3"
    }
  },
  "cells": [
    {
      "cell_type": "markdown",
      "metadata": {
        "id": "view-in-github",
        "colab_type": "text"
      },
      "source": [
        "<a href=\"https://colab.research.google.com/github/SergiodotICO/edd_1358_2021/blob/master/28octubre_1358.ipynb\" target=\"_parent\"><img src=\"https://colab.research.google.com/assets/colab-badge.svg\" alt=\"Open In Colab\"/></a>"
      ]
    },
    {
      "cell_type": "code",
      "metadata": {
        "id": "ff5BwKUM6Lbz",
        "outputId": "7b3f5bdf-4163-4f92-c347-f6403620f960",
        "colab": {
          "base_uri": "https://localhost:8080/"
        }
      },
      "source": [
        "\"\"\"\n",
        "Array\n",
        "\"\"\"\n",
        "class Array ():\n",
        "\n",
        "  def __init__(self, tam):\n",
        "    self.__datos = [0 for x in range(tam)] # Crea una lista de ceros \n",
        "\n",
        "  def get_item( self, index ):\n",
        "    dato = 0\n",
        "    if index >= 0 and index < len(self.__datos):\n",
        "      dato = self.__datos[index]\n",
        "    else:\n",
        "      print(\"Eror en el indice\") \n",
        "    return dato\n",
        "\n",
        "  def set_item ( self, dato, index ):\n",
        "    if index >= 0 and index < len(self.__datos):\n",
        "      self.__datos[index] = dato\n",
        "    else:\n",
        "      print(\"Eror en el indice\") \n",
        "  \n",
        "  def get_Length ( self ):\n",
        "    return len(self.__datos)\n",
        "  \n",
        "  def clear( self, dato ):\n",
        "    self.__datos = [dato for x in range(tam)] #tambien se puede hacer con un for\n",
        "    \n",
        "  def getIterator( self ):\n",
        "    return _getIterator( self.__datos )\n",
        "  \n",
        "class _getIterator:\n",
        "    def __init__( self , arreglo ):\n",
        "        self.__arreglo = arreglo\n",
        "        self.__indice_actual = 0\n",
        "\n",
        "    def __iter__( self ):\n",
        "        return self\n",
        "\n",
        "    def __next__( self  ):\n",
        "        if self.__indice_actual < len(self.__arreglo):\n",
        "            dato = self.__arreglo[self.__indice_actual]\n",
        "            self.__indice_actual +=1\n",
        "            return dato\n",
        "        else:\n",
        "            raise StopIteration\n",
        "    def getIterator( self ):\n",
        "        return _getIterator( self.__datos )\n",
        "\n",
        "    \n",
        "  \n",
        "\n",
        "mi_arreglo = Array ( 10 )\n",
        "#print( mi_arreglo.get_item( 20 ) )\n",
        "#mi_arreglo.set_item( 2345, 3 )\n",
        "#print( mi_arreglo.get_item(3) )\n",
        "\n",
        "for x in mi_arreglo.getIterator():\n",
        "  print( x )"
      ],
      "execution_count": 23,
      "outputs": [
        {
          "output_type": "stream",
          "text": [
            "0\n",
            "0\n",
            "0\n",
            "0\n",
            "0\n",
            "0\n",
            "0\n",
            "0\n",
            "0\n",
            "0\n"
          ],
          "name": "stdout"
        }
      ]
    },
    {
      "cell_type": "code",
      "metadata": {
        "id": "qGQAqHiBGkwI"
      },
      "source": [
        "# generadores\n",
        "# for controla el numero de veces que se introduce el 0\n",
        "# x puede tomar los valoes que genra el range \n",
        "# datos = [ x for x in range(5) ]\n",
        "# se hacer operaciones sobre x, datos = [ x*5 for x in range(5) ]\n",
        "# se puede iterar sobre los lelemtos de una lista\n",
        "#datos = [ 0 for x in range(5) ]\n",
        "#print(datos)"
      ],
      "execution_count": 16,
      "outputs": []
    },
    {
      "cell_type": "markdown",
      "metadata": {
        "id": "GW4jl4G0IWSC"
      },
      "source": [
        "# generar una lista de dos dimenciones \n",
        "\n",
        "[ [0,0,0],\n",
        "  [0,0,0],\n",
        "  [0,0,0] ]"
      ]
    },
    {
      "cell_type": "code",
      "metadata": {
        "id": "n3gRMFvtIR7J"
      },
      "source": [
        "# lista 2D\n",
        "# genrador anidado\n",
        "#ren = 4\n",
        "#col = 6\n",
        "#dos_d = [ [0 for x in range(col)] for x in range(ren)  ]\n",
        "#print( dos_d )"
      ],
      "execution_count": 17,
      "outputs": []
    }
  ]
}