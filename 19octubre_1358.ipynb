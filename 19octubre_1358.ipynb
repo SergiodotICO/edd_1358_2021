{
  "nbformat": 4,
  "nbformat_minor": 0,
  "metadata": {
    "colab": {
      "name": "19octubre_1358.ipynb",
      "provenance": [],
      "authorship_tag": "ABX9TyP2KPMnBax42U+FJvldHyPD",
      "include_colab_link": true
    },
    "kernelspec": {
      "name": "python3",
      "display_name": "Python 3"
    }
  },
  "cells": [
    {
      "cell_type": "markdown",
      "metadata": {
        "id": "view-in-github",
        "colab_type": "text"
      },
      "source": [
        "<a href=\"https://colab.research.google.com/github/SergiodotICO/edd_1358_2021/blob/master/19octubre_1358.ipynb\" target=\"_parent\"><img src=\"https://colab.research.google.com/assets/colab-badge.svg\" alt=\"Open In Colab\"/></a>"
      ]
    },
    {
      "cell_type": "code",
      "metadata": {
        "id": "zuvaqfWSZAU2",
        "outputId": "18d5f7a3-259b-4a1b-b4a9-6c31d69a60cd",
        "colab": {
          "base_uri": "https://localhost:8080/",
          "height": 85
        }
      },
      "source": [
        "# Lectura de archivos\n",
        "archivo = open('frutas.txt', 'rt')\n",
        "\n",
        "data = archivo.read()\n",
        "print(data.upper())\n",
        "\n",
        "archivo.close()"
      ],
      "execution_count": 2,
      "outputs": [
        {
          "output_type": "stream",
          "text": [
            "LIMON, AGUACATE, FRESA, MANZANA\n",
            "CIRUELA, CAPULIN, NARANJA\n",
            "PERA, KIWI\n",
            "\n"
          ],
          "name": "stdout"
        }
      ]
    },
    {
      "cell_type": "code",
      "metadata": {
        "id": "2tgiaod8d-7j",
        "outputId": "ae15886c-b322-446f-e10a-2f744ff3d681",
        "colab": {
          "base_uri": "https://localhost:8080/",
          "height": 136
        }
      },
      "source": [
        "#readline() leer el archvi linea por linea.\n",
        "archivo1 = open('frutas.txt', 'rt')\n",
        "# print(archivo1.readline())\n",
        "# print(archivo1.readline())\n",
        "# print(archivo1.readline())\n",
        "\n",
        "\n",
        "#automatizado\n",
        "data = archivo1.readline()\n",
        "print(data)\n",
        "while data != \"\":\n",
        "  data = archivo1.readline()\n",
        "  print(data)\n",
        "archivo1.close()"
      ],
      "execution_count": 16,
      "outputs": [
        {
          "output_type": "stream",
          "text": [
            "limon, aguacate, fresa, manzana\n",
            "\n",
            "ciruela, capulin, naranja\n",
            "\n",
            "pera, kiwi\n",
            "\n",
            "\n"
          ],
          "name": "stdout"
        }
      ]
    },
    {
      "cell_type": "code",
      "metadata": {
        "id": "Pj6fGAW0gDYo",
        "outputId": "935e11ac-aa1f-406b-d11e-4c54fa3bccee",
        "colab": {
          "base_uri": "https://localhost:8080/",
          "height": 68
        }
      },
      "source": [
        "# readlines()\n",
        "\n",
        "archivo2 = open('frutas.txt','rt')\n",
        "\n",
        "data = archivo2.readlines()\n",
        "print(data)\n",
        "# elimina salto de linea\n",
        "frutas = []\n",
        "for linea in data:\n",
        "  frutas.append(linea.strip())\n",
        "print(frutas)\n",
        "# separa en elemtos\n",
        "frutas_final = []\n",
        "for elem in frutas:\n",
        "  for fruta in elem.split(','):\n",
        "    frutas_final.append(fruta.strip())\n",
        "print(frutas_final)\n",
        "\n",
        "\n",
        "\n",
        "archivo2.close()"
      ],
      "execution_count": 22,
      "outputs": [
        {
          "output_type": "stream",
          "text": [
            "['limon, aguacate, fresa, manzana\\n', 'ciruela, capulin, naranja\\n', 'pera, kiwi\\n']\n",
            "['limon, aguacate, fresa, manzana', 'ciruela, capulin, naranja', 'pera, kiwi']\n",
            "['limon', 'aguacate', 'fresa', 'manzana', 'ciruela', 'capulin', 'naranja', 'pera', 'kiwi']\n"
          ],
          "name": "stdout"
        }
      ]
    },
    {
      "cell_type": "markdown",
      "metadata": {
        "id": "m2QmuUW6lJaV"
      },
      "source": [
        "# POO con python\n",
        "- clase\n",
        "- objetos\n",
        "- atributos\n",
        "- métodos\n",
        "- método constructor\n",
        "- encapsulamiento (publico y privado)\n",
        "- herencia\n",
        "\n",
        "\n",
        "Declarar clases en python se usa la palabra reservada class\n"
      ]
    },
    {
      "cell_type": "code",
      "metadata": {
        "id": "X7uSsXRhlqX9",
        "outputId": "7ceca337-b4b2-4a18-ff44-fe2fafd112f0",
        "colab": {
          "base_uri": "https://localhost:8080/",
          "height": 51
        }
      },
      "source": [
        "# clase\n",
        "class Persona:\n",
        "  # constructor \n",
        "  def __init__( self, edd, est, ):\n",
        "    # atributos privado llevan __\n",
        "    # Atributos privados\n",
        "    self.__edad = edd\n",
        "    self.__estatura = est\n",
        "\n",
        "  # metodo, lleva self porque implicitamente se envia a si mismo.\n",
        "  def to_string( self ):\n",
        "    print(f\"Edad = {self.__edad}, estatura = {self.__estatura}\")\n",
        "  \n",
        "per1 = Persona(23, 1.78)\n",
        "per1.to_string()\n",
        "per1.__estatura = 10.4\n",
        "per1.to_string()"
      ],
      "execution_count": 29,
      "outputs": [
        {
          "output_type": "stream",
          "text": [
            "Edad = 23, estatura = 1.78\n",
            "Edad = 23, estatura = 1.78\n"
          ],
          "name": "stdout"
        }
      ]
    }
  ]
}