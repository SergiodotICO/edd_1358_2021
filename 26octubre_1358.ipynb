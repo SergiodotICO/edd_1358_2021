{
  "nbformat": 4,
  "nbformat_minor": 0,
  "metadata": {
    "colab": {
      "name": "26octubre_1358.ipynb",
      "provenance": [],
      "authorship_tag": "ABX9TyN1/Mzt3L3zKMj1VpmKSA9Y",
      "include_colab_link": true
    },
    "kernelspec": {
      "name": "python3",
      "display_name": "Python 3"
    }
  },
  "cells": [
    {
      "cell_type": "markdown",
      "metadata": {
        "id": "view-in-github",
        "colab_type": "text"
      },
      "source": [
        "<a href=\"https://colab.research.google.com/github/SergiodotICO/edd_1358_2021/blob/master/26octubre_1358.ipynb\" target=\"_parent\"><img src=\"https://colab.research.google.com/assets/colab-badge.svg\" alt=\"Open In Colab\"/></a>"
      ]
    },
    {
      "cell_type": "code",
      "metadata": {
        "id": "QrI7macNnwJg",
        "outputId": "2b78d301-a9cf-44bf-a5e1-73051e750f64",
        "colab": {
          "base_uri": "https://localhost:8080/",
          "height": 34
        }
      },
      "source": [
        "\"\"\"\n",
        "Array\n",
        "\"\"\"\n",
        "class Array ():\n",
        "\n",
        "  def __init__(self, tam):\n",
        "    self.__datos = [0 for x in range(tam)] # Crea una lista de ceros \n",
        "\n",
        "  def get_item( self, index ):\n",
        "    return self.__datos[index]\n",
        "\n",
        "mi_arreglo = Array (10)\n",
        "print(mi_arreglo.get_item(2))"
      ],
      "execution_count": 6,
      "outputs": [
        {
          "output_type": "stream",
          "text": [
            "0\n"
          ],
          "name": "stdout"
        }
      ]
    }
  ]
}