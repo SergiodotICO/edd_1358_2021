{
  "nbformat": 4,
  "nbformat_minor": 0,
  "metadata": {
    "colab": {
      "name": "22_enero_1358.ipynb",
      "provenance": [],
      "authorship_tag": "ABX9TyO2Bl/Q03NjOLhlMoe/3XH9",
      "include_colab_link": true
    },
    "kernelspec": {
      "name": "python3",
      "display_name": "Python 3"
    }
  },
  "cells": [
    {
      "cell_type": "markdown",
      "metadata": {
        "id": "view-in-github",
        "colab_type": "text"
      },
      "source": [
        "<a href=\"https://colab.research.google.com/github/SergiodotICO/edd_1358_2021/blob/master/22_enero_1358.ipynb\" target=\"_parent\"><img src=\"https://colab.research.google.com/assets/colab-badge.svg\" alt=\"Open In Colab\"/></a>"
      ]
    },
    {
      "cell_type": "code",
      "metadata": {
        "id": "b7vF0FyownE_"
      },
      "source": [
        "class NodoArbol:\r\n",
        "    def __init__(self, value, left=None, right=None):\r\n",
        "        self.data = value\r\n",
        "        self.left = left\r\n",
        "        self.right = right"
      ],
      "execution_count": 1,
      "outputs": []
    },
    {
      "cell_type": "code",
      "metadata": {
        "id": "xjJ-lP6YwqiD"
      },
      "source": [
        "class ArbolBinarioBusqueda:\r\n",
        "    def __init__ ( self ):\r\n",
        "        self.__root = None\r\n",
        "\r\n",
        "    def insert(self, value):\r\n",
        "        if self.__root == None:\r\n",
        "            self.__root = NodoArbol( value )\r\n",
        "        else:\r\n",
        "            self.__insert__( self.__root, value )\r\n",
        "\r\n",
        "    def __insert__( self, nodo, value ): # Recursividad\r\n",
        "        if nodo.data == value:\r\n",
        "            print(\"El nodo ya existe, no se inserta: \", value)\r\n",
        "        elif value < nodo.data:\r\n",
        "            # ir a la izquierdad\r\n",
        "            if nodo.left == None:\r\n",
        "                nodo.left = NodoArbol( value )\r\n",
        "            else:\r\n",
        "                self.__insert__( nodo.left, value )\r\n",
        "        else:\r\n",
        "            # ir a la derecha\r\n",
        "            if nodo.right == None:\r\n",
        "                nodo.right = NodoArbol( value )\r\n",
        "            else:\r\n",
        "                self.__insert__(nodo.right, value)\r\n",
        "\r\n",
        "    def transversal( self, format=\"in\" ): #in, pos, pre\r\n",
        "        if format == \"in\":\r\n",
        "            print(\"\\nRecorrido en in orden\")\r\n",
        "            self.__recorrido_in(self.__root)\r\n",
        "        elif format == \"pre\":\r\n",
        "            print(\"\\nRecorrido en pre orden\")\r\n",
        "            self.__recorrido_pre(self.__root)\r\n",
        "        elif format == \"pos\":\r\n",
        "            print(\"\\nRecorrido en pos orden\")\r\n",
        "            self.__recorrido_pos(self.__root)\r\n",
        "        else:\r\n",
        "            print(\"\\nFormato invalido.\")\r\n",
        "\r\n",
        "    def __recorrido_in( self, nodo ):\r\n",
        "        if nodo == None:\r\n",
        "            #print(\"Caso base\")\r\n",
        "            pass\r\n",
        "        else:\r\n",
        "            self.__recorrido_in( nodo.left )\r\n",
        "            print(nodo.data, end=\",\")\r\n",
        "            self.__recorrido_in( nodo.right )\r\n",
        "\r\n",
        "    def __recorrido_pre( self, nodo ):\r\n",
        "        if nodo == None:\r\n",
        "            #print(\"Caso base\")\r\n",
        "            pass\r\n",
        "        else:\r\n",
        "            print(nodo.data, end=\",\")\r\n",
        "            self.__recorrido_pre( nodo.left )\r\n",
        "            self.__recorrido_pre( nodo.right )\r\n",
        "        \r\n",
        "\r\n",
        "    def __recorrido_pos( self, nodo ):\r\n",
        "        if nodo == None:\r\n",
        "            #print(\"Caso base\")\r\n",
        "            pass\r\n",
        "        else:\r\n",
        "            self.__recorrido_pos( nodo.left )\r\n",
        "            self.__recorrido_pos( nodo.right )\r\n",
        "            print(nodo.data, end=\",\")\r\n",
        "\r\n",
        "    def search( self, value ):\r\n",
        "        if self.__root == None:\r\n",
        "            print(\"Árbol vacío\")\r\n",
        "        else:\r\n",
        "            return self.__search( self.__root, value )\r\n",
        "    \r\n",
        "    def __search(self, nodo, value):\r\n",
        "        if nodo == None:\r\n",
        "            return None\r\n",
        "        elif nodo.data == value:\r\n",
        "            return nodo\r\n",
        "        elif value < nodo.data:\r\n",
        "            print(\"Ir a la izquierda\")\r\n",
        "            return self.__search( nodo.left, value )\r\n",
        "        else:\r\n",
        "            print(\"Ir a la derecha\")\r\n",
        "            return self.__search( nodo.right, value )\r\n",
        "        "
      ],
      "execution_count": 29,
      "outputs": []
    },
    {
      "cell_type": "code",
      "metadata": {
        "colab": {
          "base_uri": "https://localhost:8080/"
        },
        "id": "9yYeUB71wtAp",
        "outputId": "c99f173b-3bc8-4c55-a392-bb877d336a9b"
      },
      "source": [
        "abb = ArbolBinarioBusqueda()\r\n",
        "abb.insert(50)\r\n",
        "abb.insert(30)\r\n",
        "abb.insert(60)\r\n",
        "abb.insert(35)\r\n",
        "abb.insert(89)\r\n",
        "abb.insert(70)\r\n",
        "abb.insert(1)\r\n",
        "abb.transversal()\r\n",
        "abb.transversal(\"pre\")\r\n",
        "abb.transversal(\"pos\")\r\n",
        "print(\"\")\r\n",
        "res = abb.search(70)\r\n",
        "print(f\"Elnodo es: {res.data}, hijo izq {res.left} hijo der {res.right}\")\r\n",
        "res = abb.search(30)\r\n",
        "print(f\"Elnodo es: {res.data}, hijo izq {res.left.data} hijo der {res.right.data}\")\r\n",
        "res = abb.search(89)\r\n",
        "print(f\"Elnodo es: {res.data}, hijo izq {res.left.data} hijo der {res.right}\")"
      ],
      "execution_count": 35,
      "outputs": [
        {
          "output_type": "stream",
          "text": [
            "\n",
            "Recorrido en in orden\n",
            "1,30,35,50,60,70,89,\n",
            "Recorrido en pre orden\n",
            "50,30,1,35,60,89,70,\n",
            "Recorrido en pos orden\n",
            "1,35,30,70,89,60,50,\n",
            "Ir a la derecha\n",
            "Ir a la derecha\n",
            "Ir a la izquierda\n",
            "Elnodo es: 70, hijo izq None hijo der None\n",
            "Ir a la izquierda\n",
            "Elnodo es: 30, hijo izq 1 hijo der 35\n",
            "Ir a la derecha\n",
            "Ir a la derecha\n",
            "Elnodo es: 89, hijo izq 70 hijo der None\n"
          ],
          "name": "stdout"
        }
      ]
    }
  ]
}