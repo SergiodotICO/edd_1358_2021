{
  "nbformat": 4,
  "nbformat_minor": 0,
  "metadata": {
    "colab": {
      "name": "21octubre_1358.ipynb",
      "provenance": [],
      "authorship_tag": "ABX9TyOltSm85aF5+nu4uye7HrcR",
      "include_colab_link": true
    },
    "kernelspec": {
      "name": "python3",
      "display_name": "Python 3"
    }
  },
  "cells": [
    {
      "cell_type": "markdown",
      "metadata": {
        "id": "view-in-github",
        "colab_type": "text"
      },
      "source": [
        "<a href=\"https://colab.research.google.com/github/SergiodotICO/edd_1358_2021/blob/master/21octubre_1358.ipynb\" target=\"_parent\"><img src=\"https://colab.research.google.com/assets/colab-badge.svg\" alt=\"Open In Colab\"/></a>"
      ]
    },
    {
      "cell_type": "code",
      "metadata": {
        "id": "CXYvGlU9pTFc",
        "outputId": "35edf94e-26bf-40c9-8607-9ce1edc58c3d",
        "colab": {
          "base_uri": "https://localhost:8080/",
          "height": 85
        }
      },
      "source": [
        "# Encapsulamiento estilo tradicional \n",
        "class SmartPhone:\n",
        "  def __init__( self, m ):\n",
        "    self.__marca = m\n",
        "\n",
        "  def set_marca( self, m ):\n",
        "    self.__marca = m \n",
        "\n",
        "  def get_marca( self ):\n",
        "    return self.__marca\n",
        "\n",
        "  def to_string( self ):\n",
        "    return \"La marca del telefono es: \" + self.__marca\n",
        "\n",
        "sp1 = SmartPhone ( \"Huawei\" )\n",
        "print( sp1.to_string() )\n",
        "sp1.__marca = \"iPhone X\"\n",
        "print( sp1.to_string() )\n",
        "sp1.set_marca(\"Samsung\")\n",
        "print( sp1.to_string() )\n",
        "print( sp1.get_marca() )"
      ],
      "execution_count": 8,
      "outputs": [
        {
          "output_type": "stream",
          "text": [
            "La marca del telefono es: Huawei\n",
            "La marca del telefono es: Huawei\n",
            "La marca del telefono es: Samsung\n",
            "Samsung\n"
          ],
          "name": "stdout"
        }
      ]
    },
    {
      "cell_type": "code",
      "metadata": {
        "id": "vkvY3TFRxXkW",
        "outputId": "56018ba0-f712-4587-c780-bbedc74c41fb",
        "colab": {
          "base_uri": "https://localhost:8080/",
          "height": 272
        }
      },
      "source": [
        "# Estilo Python 3\n",
        "class SmartPhone:\n",
        "  def __init__( self, m ):\n",
        "    self.marca = m  # llamando al método get\n",
        "\n",
        "  @property  # decorador\n",
        "  def marca( self ):  # define metodo get y se declara self.__marca\n",
        "    print(\"En el metodo get de marca\")\n",
        "    return self.__marca\n",
        "\n",
        "  @marca.setter # tine que estar despues de @propety\n",
        "  def marca( self, m ):\n",
        "    if m in [\"Lenovo\", \"Sony\", \"Motorola\", \"iPhone SE\", \"Huawei\", \"Xiaomi\"]:\n",
        "      self.__marca = m\n",
        "    else:\n",
        "      print(\"Asignación no valida\")\n",
        "    \n",
        "\n",
        "  def to_string( self ):\n",
        "    return \"Marca = \" + self.marca\n",
        "\n",
        "sp2 = SmartPhone(\"Xiaomi\")\n",
        "print( sp2.to_string() )\n",
        "\n",
        "print( \"---------\" )\n",
        "sp2.__marca = \"iPhone SE\"\n",
        "print( sp2.to_string() )\n",
        "\n",
        "print( \"---------\" )\n",
        "sp2.marca = \"Motorola\" # La propiedad tambien es el metodo set / invocacion del metodo set\n",
        "print( sp2.to_string() )\n",
        "\n",
        "print( \"---------\" )\n",
        "print( sp2.marca ) # invocacion del metodo get\n",
        "\n",
        "print( \"---------\" )\n",
        "sp2.marca = \"8724b98 y67e 131\"\n",
        "print( sp2.to_string() )\n"
      ],
      "execution_count": 22,
      "outputs": [
        {
          "output_type": "stream",
          "text": [
            "En el metodo get de marca\n",
            "Marca = Xiaomi\n",
            "---------\n",
            "En el metodo get de marca\n",
            "Marca = Xiaomi\n",
            "---------\n",
            "En el metodo get de marca\n",
            "Marca = Motorola\n",
            "---------\n",
            "En el metodo get de marca\n",
            "Motorola\n",
            "---------\n",
            "Asignación no valida\n",
            "En el metodo get de marca\n",
            "Marca = Motorola\n"
          ],
          "name": "stdout"
        }
      ]
    },
    {
      "cell_type": "code",
      "metadata": {
        "id": "9w7ZRAD55D5V",
        "outputId": "8245c454-ff5a-4e3b-e7c1-0e21a9ac525a",
        "colab": {
          "base_uri": "https://localhost:8080/",
          "height": 88
        }
      },
      "source": [
        "# Herencia\n",
        "class TelefonoTrabajo(SmartPhone):\n",
        "  def __init__( self, m ):\n",
        "    self.marca = m\n",
        "\n",
        "sp3 = TelefonoTrabajo(\"Motorola\")\n",
        "print(dir(sp3))\n",
        "print(sp3.to_string())\n"
      ],
      "execution_count": 21,
      "outputs": [
        {
          "output_type": "stream",
          "text": [
            "['_SmartPhone__marca', '__class__', '__delattr__', '__dict__', '__dir__', '__doc__', '__eq__', '__format__', '__ge__', '__getattribute__', '__gt__', '__hash__', '__init__', '__init_subclass__', '__le__', '__lt__', '__module__', '__ne__', '__new__', '__reduce__', '__reduce_ex__', '__repr__', '__setattr__', '__sizeof__', '__str__', '__subclasshook__', '__weakref__', 'marca', 'to_string']\n",
            "En el metodo get de marca\n",
            "Marca = Motorola\n"
          ],
          "name": "stdout"
        }
      ]
    }
  ]
}