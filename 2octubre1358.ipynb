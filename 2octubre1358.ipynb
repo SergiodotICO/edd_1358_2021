{
  "nbformat": 4,
  "nbformat_minor": 0,
  "metadata": {
    "colab": {
      "name": "2octubre1358.ipynb",
      "provenance": [],
      "authorship_tag": "ABX9TyP/W/qpZ5++M5t81alHly4P",
      "include_colab_link": true
    },
    "kernelspec": {
      "name": "python3",
      "display_name": "Python 3"
    }
  },
  "cells": [
    {
      "cell_type": "markdown",
      "metadata": {
        "id": "view-in-github",
        "colab_type": "text"
      },
      "source": [
        "<a href=\"https://colab.research.google.com/github/SergiodotICO/edd_1358_2021/blob/master/2octubre1358.ipynb\" target=\"_parent\"><img src=\"https://colab.research.google.com/assets/colab-badge.svg\" alt=\"Open In Colab\"/></a>"
      ]
    },
    {
      "cell_type": "markdown",
      "metadata": {
        "id": "Iaqhct2t3SAN"
      },
      "source": [
        ""
      ]
    },
    {
      "cell_type": "markdown",
      "metadata": {
        "id": "aRniE1Z43SN6"
      },
      "source": [
        "# tipos de dato\n",
        " - string              str\n",
        " - enteros              int\n",
        " - numero flotante      float \n",
        " - Logico               bool\n",
        " - Numero Complejo      complex\n",
        " - Listas               list\n",
        " - tuplas               tuple\n",
        " - diccionario          dic\n",
        " - conjunto             set\n",
        " "
      ]
    },
    {
      "cell_type": "code",
      "metadata": {
        "id": "uGAh0FWJ35Oc",
        "outputId": "11f91385-1a36-4f6e-deb9-673715c425ce",
        "colab": {
          "base_uri": "https://localhost:8080/",
          "height": 178
        }
      },
      "source": [
        "universidad = \" universidad nacinal autonoma de mexico\"\n",
        "print(universidad)\n",
        "\n",
        "# cuando el string es una sola palabra se usa '' por buena practica\n",
        "carrera = 'ico'\n",
        "area = \"software\"\n",
        "division = \"division de las ciencias fisico matematicas\"\n",
        "print(carrera, area)\n",
        "print(division)\n",
        "# se usa \"\"\"\" cuando el string incluye varios renglones\n",
        "frase = \"\"\"\n",
        "si\n",
        "funciona, ¡¡¡no\n",
        "lo\n",
        "arregles!!!\n",
        "\"\"\"\n",
        "print(frase)"
      ],
      "execution_count": 4,
      "outputs": [
        {
          "output_type": "stream",
          "text": [
            " universidad nacinal autonoma de mexico\n",
            "ico software\n",
            "division de las ciencias fisico matematicas\n",
            "\n",
            "si\n",
            "funciona, ¡¡¡no\n",
            "lo\n",
            "arregles!!!\n",
            "\n"
          ],
          "name": "stdout"
        }
      ]
    },
    {
      "cell_type": "code",
      "metadata": {
        "id": "u8GIpKjP5dZi",
        "outputId": "f8fabdc0-b374-4271-f502-2bf3113181bd",
        "colab": {
          "base_uri": "https://localhost:8080/",
          "height": 196
        }
      },
      "source": [
        "print( universidad.upper() )\n",
        "print( universidad.title() )\n",
        "# eliminar espacos a la derecha e izquierda\n",
        "universidad = universidad.strip()\n",
        "print(universidad)\n",
        "# eliminar espacios en el la cadena \n",
        "# Se pasa coo argumento un \" \" para separa por espacios \n",
        "lista = universidad.split()\n",
        "nueva = \"\"\n",
        "for i in lista:\n",
        "  if len(i) > 0:\n",
        "    nueva += i + \" \"\n",
        "print(nueva)\n",
        "numeros = \"1,2,34,56,100\"\n",
        "separados = numeros.split(\",\")\n",
        "print(separados)\n",
        "numeros_int = []\n",
        "for num in separados:\n",
        "  numeros_int.append(int(num))\n",
        "print(numeros_int)\n",
        "print(nueva)\n",
        "print(nueva.index(\" \"))\n",
        "print(nueva.index(\"na\"))\n",
        "# toma la cadena orignal y regresa una cadena modificada (no altera la cadena original)\n",
        "print(nueva.replace(' ', '-'))\n",
        "\n"
      ],
      "execution_count": 31,
      "outputs": [
        {
          "output_type": "stream",
          "text": [
            "UNIVERSIDAD NACINAL AUTONOMA DE MEXICO\n",
            "Universidad Nacinal Autonoma De Mexico\n",
            "universidad nacinal autonoma de mexico\n",
            "universidad nacinal autonoma de mexico \n",
            "['1', '2', '34', '56', '100']\n",
            "[1, 2, 34, 56, 100]\n",
            "universidad nacinal autonoma de mexico \n",
            "11\n",
            "12\n",
            "universidad-nacinal-autonoma-de-mexico-\n"
          ],
          "name": "stdout"
        }
      ]
    },
    {
      "cell_type": "markdown",
      "metadata": {
        "id": "9m4nfGcU_VXz"
      },
      "source": [
        "# slicing \n",
        "sintaxis\n",
        "[inicio : stop : incremeto]\n"
      ]
    },
    {
      "cell_type": "code",
      "metadata": {
        "id": "gDTFKIs3_ukP",
        "outputId": "bf26a47f-776d-4ddd-98f7-5527a909c18b",
        "colab": {
          "base_uri": "https://localhost:8080/",
          "height": 178
        }
      },
      "source": [
        "# Selector de elemtos dentro de un str\n",
        "print(nueva[0])\n",
        "nueva = nueva.strip()\n",
        "print( nueva[ len(nueva[-1]) ] ) # indexado negativo\n",
        "print(nueva[-2])\n",
        "\n",
        "# slicing\n",
        "print( nueva[ 12 : 20 : 1 ] )\n",
        "\n",
        "# indexado negativo en slicing\n",
        "print(nueva)\n",
        "print(  nueva[ -6 :  : 1 ] )\n",
        "print( nueva[ -1 : -7 : -1 ] )\n",
        "\n",
        "# valores por defecto [ 0 : long de la lista : 1 ]\n",
        "print( nueva[ : 4 : ] )\n",
        "print( nueva[ : 4 : 2] )\n",
        "\n",
        "\n",
        "\n"
      ],
      "execution_count": 40,
      "outputs": [
        {
          "output_type": "stream",
          "text": [
            "u\n",
            "n\n",
            "c\n",
            "nacinal \n",
            "universidad nacinal autonoma de mexico\n",
            "mexico\n",
            "ocixem\n",
            "univ\n",
            "ui\n"
          ],
          "name": "stdout"
        }
      ]
    },
    {
      "cell_type": "markdown",
      "metadata": {
        "id": "htGGkJPJD8h9"
      },
      "source": [
        "# bool\n",
        "Acepta solo 2 valores \n",
        "True bool{1}\n",
        "False bool{0}"
      ]
    },
    {
      "cell_type": "code",
      "metadata": {
        "id": "u_0bI8UrENht",
        "outputId": "cf7e06e9-5e06-4065-a213-6a7db78bd58d",
        "colab": {
          "base_uri": "https://localhost:8080/",
          "height": 88
        }
      },
      "source": [
        "print(bool(0))\n",
        "print(bool(432432))\n",
        "flag = 12\n",
        "print(bool(flag))\n",
        "print(True)"
      ],
      "execution_count": 42,
      "outputs": [
        {
          "output_type": "stream",
          "text": [
            "False\n",
            "True\n",
            "True\n",
            "True\n"
          ],
          "name": "stdout"
        }
      ]
    },
    {
      "cell_type": "markdown",
      "metadata": {
        "id": "1bi_2-gcFO8Y"
      },
      "source": [
        "# comentarios\n",
        "\n",
        "para un comentario de una linea se usa #\n",
        "para un comentario de multiple linea equvalente a /* */ de java y lenguaje c se ocupa \"\"\" \"\"\"\""
      ]
    },
    {
      "cell_type": "code",
      "metadata": {
        "id": "87jgGF0jFW6o"
      },
      "source": [
        "# este es un comentario de linea simple\n",
        "\n",
        "\"\"\"\n",
        "Este\n",
        " es un\n",
        "   comentario de \n",
        "     multiple\n",
        "       linea\n",
        "\"\"\""
      ],
      "execution_count": null,
      "outputs": []
    },
    {
      "cell_type": "markdown",
      "metadata": {
        "id": "K-sY0OhCFk_-"
      },
      "source": [
        "# Funcion print\n",
        "Hay 4 formas de usar print\n",
        "1. con coma(,)\n",
        "1. con signo + (+)\n",
        "1. con la funcion format() de la clase string\n",
        "1. con el operador f\"\""
      ]
    },
    {
      "cell_type": "code",
      "metadata": {
        "id": "WJgBKUYlGHqj",
        "outputId": "13c23ece-6db9-4fb3-f6af-230f2d63fa89",
        "colab": {
          "base_uri": "https://localhost:8080/",
          "height": 88
        }
      },
      "source": [
        "# con comas\n",
        "cantidad = 2\n",
        "precio_chetos = 8\n",
        "precio_fanta = 12\n",
        "# primeto realiza casting a str\n",
        "print(cantidad, precio_chetos, precio_fanta)\n",
        "\n",
        "# con signo solo opera con str\n",
        "print( \"hoala\" + \"mundo\" )\n",
        "# Suma por ser un operador sobre cargado\n",
        "print( cantidad + precio_chetos + precio_fanta )\n",
        "print( str(cantidad) + str(precio_chetos) + str(precio_fanta) )"
      ],
      "execution_count": 45,
      "outputs": [
        {
          "output_type": "stream",
          "text": [
            "2 8 12\n",
            "hoalamundo\n",
            "22\n",
            "2812\n"
          ],
          "name": "stdout"
        }
      ]
    }
  ]
}